{
  "nbformat": 4,
  "nbformat_minor": 0,
  "metadata": {
    "colab": {
      "provenance": []
    },
    "kernelspec": {
      "name": "python3",
      "display_name": "Python 3"
    },
    "language_info": {
      "name": "python"
    }
  },
  "cells": [
    {
      "cell_type": "markdown",
      "source": [
        "## LAB MID Penalty"
      ],
      "metadata": {
        "id": "CaANIP8g4NLj"
      }
    },
    {
      "cell_type": "markdown",
      "source": [
        "## YOUTUBE LINK\n",
        "https://youtu.be/P99v4uTv_Nk"
      ],
      "metadata": {
        "id": "iUe4SE8U4h4R"
      }
    },
    {
      "cell_type": "markdown",
      "source": [
        "## A Steric Algorith\n"
      ],
      "metadata": {
        "id": "BirtC10RRypT"
      }
    },
    {
      "cell_type": "code",
      "source": [
        "graph = {\n",
        " 'S': {'A': 1, 'B': 1, 'C': 2},\n",
        " 'A': {'E': 2, 'D': 1},\n",
        " 'B': {'D': 1},\n",
        " 'C': {'D': 1, 'F': 2},\n",
        " 'D': {'A': 1, 'E': 2, 'H': 1, 'C': 2},\n",
        " 'E': {'A': 2, 'D': 2, 'G': 3},\n",
        " 'F': {'C': 2, 'H': 2},\n",
        " 'G': {'E': 3, 'H': 1},\n",
        " 'H': {'F': 2, 'D': 1, 'G': 1} }\n",
        "\n",
        "heuristic = {\n",
        " 'S': 17,\n",
        " 'A': 2,\n",
        " 'B': 1,\n",
        " 'C': 2,\n",
        " 'D': 1,\n",
        " 'E': 2,\n",
        " 'F': 2,\n",
        " 'G': 0, 'H': 1 }\n",
        "\n",
        "\n",
        "def a_steric(graph,start,goal,heuristic):\n",
        "  open_list = {start : (0 + heuristic.get(start,float('inf')))}\n",
        "  g_n = {start : 0}\n",
        "  close_list = set()\n",
        "  parent = {}\n",
        "\n",
        "  while open_list:\n",
        "    current = min(open_list,key = open_list.get)\n",
        "    if current == goal:\n",
        "      break;\n",
        "    open_list.pop(current)\n",
        "    close_list.add(current)\n",
        "\n",
        "    for neighbour, cost in graph.get(current,{}).items():\n",
        "      if neighbour in close_list:\n",
        "        continue\n",
        "      tent_g = g_n[current] + cost\n",
        "      if neighbour not in g_n or tent_g < g_n[neighbour]:\n",
        "        g_n[neighbour] = tent_g\n",
        "        f_n = tent_g + heuristic.get(neighbour,float('inf'))\n",
        "        open_list[neighbour] = f_n\n",
        "        parent[neighbour] = current\n",
        "  if goal not in parent and current != goal:\n",
        "      return None\n",
        "\n",
        "  path = []\n",
        "  current = goal\n",
        "  while current in parent:\n",
        "      path.append(current)\n",
        "      current = parent[current]\n",
        "  path.append(start)\n",
        "  path.reverse()\n",
        "\n",
        "\n",
        "  return path\n",
        "\n",
        "a_star_path = a_steric(graph, 'S', 'G', heuristic)\n",
        "print(\"A* Search Path:\", a_star_path)\n",
        "\n",
        "\n",
        "\n",
        "\n",
        "\n",
        "\n"
      ],
      "metadata": {
        "id": "RHYIj9Xw7dc5",
        "colab": {
          "base_uri": "https://localhost:8080/"
        },
        "outputId": "9ee7f3e2-514d-46fe-b33e-5aa0236aa5f1"
      },
      "execution_count": null,
      "outputs": [
        {
          "output_type": "stream",
          "name": "stdout",
          "text": [
            "A* Search Path: ['S', 'B', 'D', 'H', 'G']\n"
          ]
        }
      ]
    },
    {
      "cell_type": "markdown",
      "source": [
        "## GREEDY ALGO"
      ],
      "metadata": {
        "id": "fHkoEoFOR6XT"
      }
    },
    {
      "cell_type": "code",
      "source": [
        "graph = {\n",
        " 'S': {'A': 1, 'B': 1, 'C': 2},\n",
        " 'A': {'E': 2, 'D': 1},\n",
        " 'B': {'D': 1},\n",
        " 'C': {'D': 1, 'F': 2},\n",
        " 'D': {'A': 1, 'E': 2, 'H': 1, 'C': 2},\n",
        " 'E': {'A': 2, 'D': 2, 'G': 3},\n",
        " 'F': {'C': 2, 'H': 2},\n",
        " 'G': {'E': 3, 'H': 1},\n",
        " 'H': {'F': 2, 'D': 1, 'G': 1} }\n",
        "\n",
        "heuristic = {\n",
        " 'S': 17,\n",
        " 'A': 2,\n",
        " 'B': 1,\n",
        " 'C': 2,\n",
        " 'D': 1,\n",
        " 'E': 2,\n",
        " 'F': 2,\n",
        " 'G': 0, 'H': 1 }\n",
        "\n",
        "def greedy(graph , start , goal , heuristic):\n",
        "    open_list = {start : heuristic.get(start,float('inf'))}\n",
        "    close_list = set()\n",
        "    parent = {}\n",
        "\n",
        "    while open_list:\n",
        "      current = min(open_list,key = open_list.get)\n",
        "\n",
        "      if current == goal:\n",
        "           break\n",
        "      open_list.pop(current)\n",
        "      close_list.add(current)\n",
        "\n",
        "      for neighbour in graph.get(current,[]):\n",
        "          if neighbour in close_list:\n",
        "            continue\n",
        "          if neighbour not in open_list:\n",
        "            parent[neighbour] = current\n",
        "            open_list[neighbour] = heuristic.get(neighbour,float('inf'))\n",
        "\n",
        "    if goal not in parent and goal != start:\n",
        "      return None\n",
        "\n",
        "\n",
        "    path = []\n",
        "    current = goal\n",
        "    while current in parent:\n",
        "      path.append(current)\n",
        "      current = parent[current]\n",
        "    path.append(start)\n",
        "    path.reverse()\n",
        "\n",
        "    return path\n",
        "\n",
        "\n",
        "\n",
        "greedy_p = greedy(graph, 'S', 'G', heuristic)\n",
        "print(\"GREEDY PATH\",greedy_p)"
      ],
      "metadata": {
        "colab": {
          "base_uri": "https://localhost:8080/"
        },
        "id": "R2epHWnDoKx9",
        "outputId": "c1bbf9a4-672e-4abf-8b49-0dba1a8e884e"
      },
      "execution_count": null,
      "outputs": [
        {
          "output_type": "stream",
          "name": "stdout",
          "text": [
            "GREEDY PATH ['S', 'B', 'D', 'H', 'G']\n"
          ]
        }
      ]
    },
    {
      "cell_type": "code",
      "source": [
        "import matplotlib.pyplot as plt\n",
        "\n",
        "# Data for one student\n",
        "student = 'Muttayyab'  # Student name\n",
        "marks = [8, 10, 21]  # Marks for Quiz, Assignment, Midterm\n",
        "categories = ['Quiz', 'Assignment', 'Midterm']  # Labels for each mark\n",
        "\n",
        "# Create positions for the bars (0, 1, 2)\n",
        "positions = [0, 1, 2]\n",
        "\n",
        "# Plot the bars\n",
        "plt.bar(positions, marks, color=['Black', 'Purple', 'orange'], width=0.5)\n",
        "\n",
        "# Add labels and title\n",
        "plt.xlabel('Assessment Type')  # X-axis label\n",
        "plt.ylabel('Marks')  # Y-axis label\n",
        "plt.title('MUTTAYYAB\\'s Marks')  # Title of the graph\n",
        "plt.xticks(positions, categories)  # Show Quiz, Assignment, Midterm on x-axis\n",
        "\n",
        "# Display the plot\n",
        "plt.show()"
      ],
      "metadata": {
        "colab": {
          "base_uri": "https://localhost:8080/",
          "height": 472
        },
        "id": "hSDZUAlnIPET",
        "outputId": "f6f8a639-55ae-4a3e-e52e-68d5c8607beb"
      },
      "execution_count": null,
      "outputs": [
        {
          "output_type": "display_data",
          "data": {
            "text/plain": [
              "<Figure size 640x480 with 1 Axes>"
            ],
            "image/png": "[encoded data removed]"
          },
          "metadata": {}
        }
      ]
    }
  ]
}