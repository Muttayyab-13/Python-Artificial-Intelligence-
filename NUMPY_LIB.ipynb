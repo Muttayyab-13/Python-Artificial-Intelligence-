{
  "cells": [
    {
      "cell_type": "markdown",
      "id": "2c37fe8a",
      "metadata": {
        "id": "2c37fe8a"
      },
      "source": [
        "##### Numpy: Numeric computing library\n",
        "\n",
        "NumPy (Numerical Python) is one of the core packages for performing complex mathematical operations. Pandas, Matplotlib, Statmodels and many other Scientific libraries rely on NumPy.\n",
        "\n",
        "1. Initializing the NumPy arrays\n",
        "2. Accessing elements\n",
        "3. Array types\n",
        "4. Array Dimensions and Shapes\n",
        "5. Indexing and Slicing of Matrices\n",
        "6. Statistics functions\n",
        "7. Broadcasting and Vectorized operations\n",
        "8. Useful Numpy functions"
      ]
    },
    {
      "cell_type": "markdown",
      "source": [
        "## MEAN\n"
      ],
      "metadata": {
        "id": "nvkII9s46gUy"
      },
      "id": "nvkII9s46gUy"
    },
    {
      "cell_type": "code",
      "source": [
        "# mean of a list\n",
        "a=[2,3,4]\n",
        "sum=0\n",
        "for x in a:\n",
        "  sum=sum+x\n",
        "\n",
        "average= sum/len(a)\n",
        "average"
      ],
      "metadata": {
        "id": "kgle-AWeKSkY",
        "colab": {
          "base_uri": "https://localhost:8080/"
        },
        "outputId": "4820e70d-d866-4436-a1ae-068667cdd792"
      },
      "id": "kgle-AWeKSkY",
      "execution_count": 2,
      "outputs": [
        {
          "output_type": "execute_result",
          "data": {
            "text/plain": [
              "3.0"
            ]
          },
          "metadata": {},
          "execution_count": 2
        }
      ]
    },
    {
      "cell_type": "markdown",
      "source": [
        "## Standard Deviation"
      ],
      "metadata": {
        "id": "LnSD_ggZ6j0J"
      },
      "id": "LnSD_ggZ6j0J"
    },
    {
      "cell_type": "code",
      "source": [
        "#standard devaition\n",
        "import math\n",
        "\n",
        "def calculate_std_deviation(data):\n",
        "    import math\n",
        "    # Step 1: Calculate the mean\n",
        "    mean = sum(data) / len(data)\n",
        "\n",
        "    # Step 2: Subtract the mean and square the differences\n",
        "    squared_diffs = [(x - mean) ** 2 for x in data]\n",
        "\n",
        "    # Step 3: Calculate the mean of the squared differences (variance)\n",
        "    variance = sum(squared_diffs) / len(data)\n",
        "\n",
        "    # Step 4: Take the square root of the variance (standard deviation)\n",
        "    std_deviation = math.sqrt(variance)\n",
        "\n",
        "    return std_deviation\n",
        "\n",
        "# Example usage\n",
        "data = [10, 12, 23, 23, 16, 23, 21, 16]\n",
        "std_dev = calculate_std_deviation(data)\n",
        "print(f\"Standard Deviation: {std_dev}\")\n"
      ],
      "metadata": {
        "colab": {
          "base_uri": "https://localhost:8080/"
        },
        "id": "BXxmHTCDK4WV",
        "outputId": "2d1a7bd4-c7b4-4143-e99b-2239dcbe6fc9"
      },
      "id": "BXxmHTCDK4WV",
      "execution_count": 1,
      "outputs": [
        {
          "output_type": "stream",
          "name": "stdout",
          "text": [
            "Standard Deviation: 4.898979485566356\n"
          ]
        }
      ]
    },
    {
      "cell_type": "markdown",
      "source": [
        "### IMPORTING NUMPY"
      ],
      "metadata": {
        "id": "MPa1z4Hk61vG"
      },
      "id": "MPa1z4Hk61vG"
    },
    {
      "cell_type": "code",
      "execution_count": null,
      "id": "34c223a0",
      "metadata": {
        "id": "34c223a0"
      },
      "outputs": [],
      "source": [
        "import numpy as np  # import the library"
      ]
    },
    {
      "cell_type": "markdown",
      "source": [
        "### BASIC numpy ARRAYS"
      ],
      "metadata": {
        "id": "JodqW1OE65NL"
      },
      "id": "JodqW1OE65NL"
    },
    {
      "cell_type": "code",
      "execution_count": 4,
      "id": "8d33679b",
      "metadata": {
        "id": "8d33679b",
        "outputId": "8dae7f8e-2db4-4093-b4de-75ea809c04d0",
        "colab": {
          "base_uri": "https://localhost:8080/"
        }
      },
      "outputs": [
        {
          "output_type": "execute_result",
          "data": {
            "text/plain": [
              "2.5"
            ]
          },
          "metadata": {},
          "execution_count": 4
        }
      ],
      "source": [
        "import numpy as np  # import the library\n",
        "# Basic Numpy Arrays\n",
        "a=np.array([1, 2, 3, 4])\n",
        "a.mean()\n"
      ]
    },
    {
      "cell_type": "code",
      "source": [
        "# In NumPy, when you create an array, it tries to determine a common data type for all the elements.\n",
        "\n",
        "array1 = np.array([1.67, 7, False])\n",
        "\n",
        "# NumPy arrays are homogeneous, meaning all elements in an array must have the same data type.\n",
        "\n",
        "# When you mix types, NumPy automatically promotes all the elements to a common type that can represent all the data without loss. Unicode string with a maximum length of 21 characters.\n",
        "\n",
        "array1\n"
      ],
      "metadata": {
        "colab": {
          "base_uri": "https://localhost:8080/"
        },
        "id": "TphtLHHhmdWP",
        "outputId": "71e183db-227c-460e-e581-7b60a19fba7b"
      },
      "id": "TphtLHHhmdWP",
      "execution_count": null,
      "outputs": [
        {
          "output_type": "execute_result",
          "data": {
            "text/plain": [
              "array([1.67, 7.  , 0.  ])"
            ]
          },
          "metadata": {},
          "execution_count": 87
        }
      ]
    },
    {
      "cell_type": "code",
      "execution_count": null,
      "id": "7854f588",
      "metadata": {
        "id": "7854f588",
        "colab": {
          "base_uri": "https://localhost:8080/"
        },
        "outputId": "b9603626-4460-4b1b-e2a5-965baf538d55"
      },
      "outputs": [
        {
          "output_type": "stream",
          "name": "stdout",
          "text": [
            "[ 1  2  3  4  5  6  7  8  9 10]\n"
          ]
        }
      ],
      "source": [
        "a = np.array([1, 2, 3, 4, 5, 6, 7, 8, 9, 10])\n",
        "print(a)"
      ]
    },
    {
      "cell_type": "code",
      "source": [
        "b = np.array([[9.1,8.1,7.1],[6.0,5.0,4.0],[9.1,8.1,7.1]]) # ([[row1], [row2]])\n",
        "print(b)"
      ],
      "metadata": {
        "colab": {
          "base_uri": "https://localhost:8080/"
        },
        "id": "JuN9ADdkLtwV",
        "outputId": "4fef77ed-2f7a-4ef9-f60a-d519f867782c"
      },
      "id": "JuN9ADdkLtwV",
      "execution_count": null,
      "outputs": [
        {
          "output_type": "stream",
          "name": "stdout",
          "text": [
            "[[9.1 8.1 7.1]\n",
            " [6.  5.  4. ]\n",
            " [9.1 8.1 7.1]]\n"
          ]
        }
      ]
    },
    {
      "cell_type": "code",
      "source": [
        "b[0]"
      ],
      "metadata": {
        "colab": {
          "base_uri": "https://localhost:8080/"
        },
        "id": "4XwzqsN0KGIK",
        "outputId": "ac63ab48-1fa8-4d21-b717-cd8cc4954ce5"
      },
      "id": "4XwzqsN0KGIK",
      "execution_count": null,
      "outputs": [
        {
          "output_type": "execute_result",
          "data": {
            "text/plain": [
              "array([9.1, 8.1, 7.1])"
            ]
          },
          "metadata": {},
          "execution_count": 5
        }
      ]
    },
    {
      "cell_type": "code",
      "execution_count": null,
      "id": "6890c78c",
      "metadata": {
        "id": "6890c78c",
        "outputId": "6b412ef3-018b-4a3b-e28d-86dadd57ba21",
        "colab": {
          "base_uri": "https://localhost:8080/"
        }
      },
      "outputs": [
        {
          "output_type": "stream",
          "name": "stdout",
          "text": [
            "4.0\n"
          ]
        }
      ],
      "source": [
        "# access the individual elements of array a\n",
        "print(b[1][2])\n"
      ]
    },
    {
      "cell_type": "code",
      "source": [
        "print(b[1,2])"
      ],
      "metadata": {
        "colab": {
          "base_uri": "https://localhost:8080/"
        },
        "id": "dGDag_yQKaFy",
        "outputId": "7ea155c8-dced-4ad3-d7ed-12e88572cf70"
      },
      "id": "dGDag_yQKaFy",
      "execution_count": null,
      "outputs": [
        {
          "output_type": "stream",
          "name": "stdout",
          "text": [
            "4.0\n"
          ]
        }
      ]
    },
    {
      "cell_type": "code",
      "execution_count": null,
      "id": "60a22263",
      "metadata": {
        "id": "60a22263",
        "outputId": "d4006ec8-2030-40a5-ff60-d718e9021e1f",
        "colab": {
          "base_uri": "https://localhost:8080/"
        }
      },
      "outputs": [
        {
          "output_type": "stream",
          "name": "stdout",
          "text": [
            "[[5.  4. ]\n",
            " [8.1 7.1]]\n"
          ]
        }
      ],
      "source": [
        "#access all elements\n",
        "print(b[1:,1:])"
      ]
    },
    {
      "cell_type": "markdown",
      "source": [
        "## SLICING"
      ],
      "metadata": {
        "id": "Lf3I2UvY7LXN"
      },
      "id": "Lf3I2UvY7LXN"
    },
    {
      "cell_type": "code",
      "execution_count": null,
      "id": "f4aa29b9",
      "metadata": {
        "id": "f4aa29b9",
        "outputId": "33d91e72-b067-4721-f0d7-87ea3606e321",
        "colab": {
          "base_uri": "https://localhost:8080/"
        }
      },
      "outputs": [
        {
          "output_type": "stream",
          "name": "stdout",
          "text": [
            "[2 3 4 5 6]\n"
          ]
        }
      ],
      "source": [
        "#access from 2nd till 5th element\n",
        "print(a[1:6]) #slicing"
      ]
    },
    {
      "cell_type": "code",
      "execution_count": null,
      "id": "707e258f",
      "metadata": {
        "id": "707e258f",
        "outputId": "934857fb-8e2e-4717-8d22-6d762bfaf73b",
        "colab": {
          "base_uri": "https://localhost:8080/"
        }
      },
      "outputs": [
        {
          "output_type": "stream",
          "name": "stdout",
          "text": [
            "[ 1  2  3  4  5  6  7  8  9 10]\n"
          ]
        },
        {
          "output_type": "execute_result",
          "data": {
            "text/plain": [
              "array([10,  9,  8,  7,  6,  5,  4,  3,  2,  1])"
            ]
          },
          "metadata": {},
          "execution_count": 7
        }
      ],
      "source": [
        "#negative indexing can be used to access elements from the end\n",
        "a = np.array([1, 2, 3, 4, 5, 6, 7, 8, 9, 10])\n",
        "print(a)\n",
        "a[::-1] # from 1 to -1 [R,C,Step]"
      ]
    },
    {
      "cell_type": "code",
      "execution_count": null,
      "id": "eb95aee2",
      "metadata": {
        "id": "eb95aee2",
        "outputId": "80e3dfec-5ead-41a9-fb0b-ece961f0a7ec",
        "colab": {
          "base_uri": "https://localhost:8080/"
        }
      },
      "outputs": [
        {
          "output_type": "execute_result",
          "data": {
            "text/plain": [
              "array([ 2,  4,  6,  8, 10])"
            ]
          },
          "metadata": {},
          "execution_count": 17
        }
      ],
      "source": [
        "# access the elements step wise [start-index:end-index:step]\n",
        "\n",
        "a[1::2]"
      ]
    },
    {
      "cell_type": "code",
      "execution_count": null,
      "id": "fcc20981",
      "metadata": {
        "id": "fcc20981",
        "outputId": "ed16efcb-b506-4bbb-cca5-e0f0d79d9d4b",
        "colab": {
          "base_uri": "https://localhost:8080/"
        }
      },
      "outputs": [
        {
          "output_type": "execute_result",
          "data": {
            "text/plain": [
              "dtype('float64')"
            ]
          },
          "metadata": {},
          "execution_count": 93
        }
      ],
      "source": [
        "# Array Types\n",
        "\n",
        "b.dtype"
      ]
    },
    {
      "cell_type": "code",
      "execution_count": null,
      "id": "69dbb248",
      "metadata": {
        "id": "69dbb248",
        "outputId": "d857e343-186f-4b18-f37f-dffed56ae1a2",
        "colab": {
          "base_uri": "https://localhost:8080/"
        }
      },
      "outputs": [
        {
          "output_type": "execute_result",
          "data": {
            "text/plain": [
              "dtype('float64')"
            ]
          },
          "metadata": {},
          "execution_count": 8
        }
      ],
      "source": [
        "b = np.array([20, 25, 19, 1.5, 2]) #array for class age\n",
        "b.dtype"
      ]
    },
    {
      "cell_type": "code",
      "source": [
        "b = np.array([20, 25, 19, 1.5, 2],dtype=int) #array for class age\n",
        "print(b)\n",
        "b.dtype\n"
      ],
      "metadata": {
        "colab": {
          "base_uri": "https://localhost:8080/"
        },
        "id": "NeXDLq2gMAJA",
        "outputId": "9d409e45-1bf7-469c-8565-460e4fea5688"
      },
      "id": "NeXDLq2gMAJA",
      "execution_count": null,
      "outputs": [
        {
          "output_type": "stream",
          "name": "stdout",
          "text": [
            "[20 25 19  1  2]\n"
          ]
        },
        {
          "output_type": "execute_result",
          "data": {
            "text/plain": [
              "dtype('int64')"
            ]
          },
          "metadata": {},
          "execution_count": 11
        }
      ]
    },
    {
      "cell_type": "code",
      "execution_count": null,
      "id": "9477d701",
      "metadata": {
        "id": "9477d701",
        "outputId": "663d7783-bf1c-4c56-c1fb-57e606809685",
        "colab": {
          "base_uri": "https://localhost:8080/"
        }
      },
      "outputs": [
        {
          "output_type": "execute_result",
          "data": {
            "text/plain": [
              "array([1., 2., 3., 4.])"
            ]
          },
          "metadata": {},
          "execution_count": 20
        }
      ],
      "source": [
        "#change data type\n",
        "\n",
        "np.array([1, 2, 3, 4], dtype=float)"
      ]
    },
    {
      "cell_type": "code",
      "source": [
        "b = np.array([[9.1,8.1,7.1],[6.0,5.0,4.0],[9.1,8.1,7.1]])"
      ],
      "metadata": {
        "id": "kmGa2HIzL_P8"
      },
      "id": "kmGa2HIzL_P8",
      "execution_count": null,
      "outputs": []
    },
    {
      "cell_type": "code",
      "execution_count": null,
      "id": "f38f95d5",
      "metadata": {
        "id": "f38f95d5"
      },
      "outputs": [],
      "source": [
        "# Array Dimensions and shapes\n",
        "\n",
        "A = np.array([\n",
        "    [1, 2, 3],\n",
        "    [4, 5, 6]\n",
        "])"
      ]
    },
    {
      "cell_type": "code",
      "execution_count": null,
      "id": "074dbb97",
      "metadata": {
        "id": "074dbb97",
        "outputId": "0734841f-90fd-437a-b99c-a3abeefe18c8",
        "colab": {
          "base_uri": "https://localhost:8080/"
        }
      },
      "outputs": [
        {
          "output_type": "execute_result",
          "data": {
            "text/plain": [
              "(2, 3)"
            ]
          },
          "metadata": {},
          "execution_count": 14
        }
      ],
      "source": [
        "# A is an array having 2 rows and 3 columns\n",
        "A.shape\n",
        "\n",
        "#(2,3) # 2 rows and 3 columns"
      ]
    },
    {
      "cell_type": "code",
      "execution_count": null,
      "id": "abd3e5a3",
      "metadata": {
        "id": "abd3e5a3",
        "outputId": "efd2728a-a663-40c6-940f-cf726edc8073",
        "colab": {
          "base_uri": "https://localhost:8080/"
        }
      },
      "outputs": [
        {
          "output_type": "execute_result",
          "data": {
            "text/plain": [
              "2"
            ]
          },
          "metadata": {},
          "execution_count": 22
        }
      ],
      "source": [
        "#check the dimensions of array A\n",
        "\n",
        "A.ndim"
      ]
    },
    {
      "cell_type": "code",
      "execution_count": null,
      "id": "ec7aa7a3",
      "metadata": {
        "id": "ec7aa7a3",
        "outputId": "5ad221ca-3aa4-47d5-f04b-aa2c96112840",
        "colab": {
          "base_uri": "https://localhost:8080/"
        }
      },
      "outputs": [
        {
          "output_type": "execute_result",
          "data": {
            "text/plain": [
              "6"
            ]
          },
          "metadata": {},
          "execution_count": 23
        }
      ],
      "source": [
        "#Check the no. of elements in array A\n",
        "A.size"
      ]
    },
    {
      "cell_type": "code",
      "execution_count": null,
      "id": "4d08f45b",
      "metadata": {
        "id": "4d08f45b",
        "colab": {
          "base_uri": "https://localhost:8080/"
        },
        "outputId": "0e7a2eb5-3e13-4067-8c17-25ded1ad85f5"
      },
      "outputs": [
        {
          "output_type": "stream",
          "name": "stdout",
          "text": [
            "[[[12 11 10  9]\n",
            "  [ 9  8  7 88]]\n",
            "\n",
            " [[ 6  5  4 77]\n",
            "  [ 3  2  1 66]]]\n"
          ]
        }
      ],
      "source": [
        "A = np.array([\n",
        "    [1, 2, 3],\n",
        "    [4, 5, 6]\n",
        "]) # 2 rows 3 columns\n",
        "\n",
        "B = np.array([\n",
        "    [\n",
        "        [12, 11, 10,9],\n",
        "        [9, 8, 7,88],\n",
        "    ],\n",
        "    [\n",
        "        [6, 5, 4,77],\n",
        "        [3, 2, 1,66]\n",
        "    ]\n",
        "]) # no of matrix= 2 , rows with each= 2 , how many columns qithin each matrxi 3\n",
        "\n",
        "  # no. of square brackets is going to show the dimention of the arrays\n",
        "\n",
        "print(B)"
      ]
    },
    {
      "cell_type": "code",
      "source": [
        "[\n",
        "  [\n",
        "    [1, 2, 3],\n",
        "    [4, 5, 6],\n",
        "    [7, 8, 9],\n",
        "    [10, 11, 12]\n",
        "  ],\n",
        "  [\n",
        "    [13, 14, 15],\n",
        "    [16, 17, 18],\n",
        "    [19, 20, 21],\n",
        "    [22, 23, 24]\n",
        "  ]\n",
        "]\n",
        "#2 matrix #each mar=trix 4 rows, #each matrix has 3 columns"
      ],
      "metadata": {
        "id": "OlSl-4NCSgDm"
      },
      "id": "OlSl-4NCSgDm",
      "execution_count": null,
      "outputs": []
    },
    {
      "cell_type": "code",
      "execution_count": null,
      "id": "3b44b237",
      "metadata": {
        "id": "3b44b237",
        "outputId": "293fdbcf-51cf-4fb3-f0a3-a4b190fbf62c"
      },
      "outputs": [
        {
          "data": {
            "text/plain": [
              "(2, 2, 3)"
            ]
          },
          "execution_count": 32,
          "metadata": {},
          "output_type": "execute_result"
        }
      ],
      "source": [
        "B.shape # no. of matrices, no. of rows, no. of cols"
      ]
    },
    {
      "cell_type": "code",
      "execution_count": null,
      "id": "5797c81e",
      "metadata": {
        "id": "5797c81e",
        "outputId": "e91ae1fc-daa7-4ac4-baa7-f0715dc8cfc7",
        "colab": {
          "base_uri": "https://localhost:8080/"
        }
      },
      "outputs": [
        {
          "output_type": "execute_result",
          "data": {
            "text/plain": [
              "3"
            ]
          },
          "metadata": {},
          "execution_count": 27
        }
      ],
      "source": [
        "B.ndim"
      ]
    },
    {
      "cell_type": "code",
      "execution_count": null,
      "id": "c7de97c9",
      "metadata": {
        "id": "c7de97c9",
        "outputId": "15a10e5e-adfa-4021-910a-1e362c324bef",
        "colab": {
          "base_uri": "https://localhost:8080/"
        }
      },
      "outputs": [
        {
          "output_type": "execute_result",
          "data": {
            "text/plain": [
              "12"
            ]
          },
          "metadata": {},
          "execution_count": 28
        }
      ],
      "source": [
        "B.size"
      ]
    },
    {
      "cell_type": "code",
      "execution_count": 5,
      "id": "540333dd",
      "metadata": {
        "id": "540333dd",
        "outputId": "4ac354b9-c19e-4593-a7a0-29e391376671",
        "colab": {
          "base_uri": "https://localhost:8080/",
          "height": 228
        }
      },
      "outputs": [
        {
          "output_type": "error",
          "ename": "ValueError",
          "evalue": "setting an array element with a sequence. The requested array has an inhomogeneous shape after 1 dimensions. The detected shape was (2,) + inhomogeneous part.",
          "traceback": [
            "\u001b[0;31m---------------------------------------------------------------------------\u001b[0m",
            "\u001b[0;31mValueError\u001b[0m                                Traceback (most recent call last)",
            "\u001b[0;32m<ipython-input-5-2fc4fb571e29>\u001b[0m in \u001b[0;36m<cell line: 0>\u001b[0;34m()\u001b[0m\n\u001b[1;32m      1\u001b[0m \u001b[0;31m#If the shape isn't consistent, it'll give error:\u001b[0m\u001b[0;34m\u001b[0m\u001b[0;34m\u001b[0m\u001b[0m\n\u001b[1;32m      2\u001b[0m \u001b[0;34m\u001b[0m\u001b[0m\n\u001b[0;32m----> 3\u001b[0;31m C = np.array([\n\u001b[0m\u001b[1;32m      4\u001b[0m     [\n\u001b[1;32m      5\u001b[0m         \u001b[0;34m[\u001b[0m\u001b[0;36m12\u001b[0m\u001b[0;34m,\u001b[0m \u001b[0;36m11\u001b[0m\u001b[0;34m,\u001b[0m \u001b[0;36m10\u001b[0m\u001b[0;34m]\u001b[0m\u001b[0;34m,\u001b[0m\u001b[0;34m\u001b[0m\u001b[0;34m\u001b[0m\u001b[0m\n",
            "\u001b[0;31mValueError\u001b[0m: setting an array element with a sequence. The requested array has an inhomogeneous shape after 1 dimensions. The detected shape was (2,) + inhomogeneous part."
          ]
        }
      ],
      "source": [
        "#If the shape isn't consistent, it'll give error:\n",
        "\n",
        "C = np.array([\n",
        "    [\n",
        "        [12, 11, 10],\n",
        "        [9, 8, 7],\n",
        "    ],\n",
        "    [\n",
        "        [6, 5, 4]\n",
        "    ]\n",
        "])"
      ]
    },
    {
      "cell_type": "code",
      "execution_count": null,
      "id": "dd1232b6",
      "metadata": {
        "id": "dd1232b6"
      },
      "outputs": [],
      "source": [
        "# Indexing and Slicing of Matrices\n",
        "\n",
        "# Square matrix\n",
        "A = np.array([\n",
        "#.   0. 1. 2\n",
        "    [1, 2, 3], # 0\n",
        "    [4, 5, 6], # 1\n",
        "    [7, 8,9]  # 2\n",
        "])"
      ]
    },
    {
      "cell_type": "code",
      "execution_count": null,
      "id": "8aea6408",
      "metadata": {
        "id": "8aea6408",
        "outputId": "ba3fce8d-6813-4690-ad65-f339055f7e06",
        "colab": {
          "base_uri": "https://localhost:8080/"
        }
      },
      "outputs": [
        {
          "output_type": "execute_result",
          "data": {
            "text/plain": [
              "array([4, 5, 6])"
            ]
          },
          "metadata": {},
          "execution_count": 31
        }
      ],
      "source": [
        "#accessing row 2\n",
        "\n",
        "A[1]"
      ]
    },
    {
      "cell_type": "code",
      "execution_count": null,
      "id": "93b7d031",
      "metadata": {
        "id": "93b7d031",
        "outputId": "4f9f6ba5-53fb-454d-cb7e-8008a2bc9368",
        "colab": {
          "base_uri": "https://localhost:8080/"
        }
      },
      "outputs": [
        {
          "output_type": "execute_result",
          "data": {
            "text/plain": [
              "4"
            ]
          },
          "metadata": {},
          "execution_count": 32
        }
      ],
      "source": [
        "#accessing elements from row 2\n",
        "A[1][0]"
      ]
    },
    {
      "cell_type": "code",
      "execution_count": null,
      "id": "1cb3fdf6",
      "metadata": {
        "id": "1cb3fdf6",
        "outputId": "18aa2643-1de9-463a-8abe-732f1f80f291",
        "colab": {
          "base_uri": "https://localhost:8080/"
        }
      },
      "outputs": [
        {
          "output_type": "execute_result",
          "data": {
            "text/plain": [
              "4"
            ]
          },
          "metadata": {},
          "execution_count": 33
        }
      ],
      "source": [
        "# [row, col]\n",
        "\n",
        "A[1, 0]"
      ]
    },
    {
      "cell_type": "code",
      "execution_count": null,
      "id": "85053755",
      "metadata": {
        "id": "85053755",
        "outputId": "29f8bf37-040a-432a-c5b7-b7668c9d3a79",
        "colab": {
          "base_uri": "https://localhost:8080/"
        }
      },
      "outputs": [
        {
          "output_type": "execute_result",
          "data": {
            "text/plain": [
              "array([[1, 2, 3],\n",
              "       [4, 5, 6]])"
            ]
          },
          "metadata": {},
          "execution_count": 34
        }
      ],
      "source": [
        "# accessing rows from 0-2, where 2 is not included\n",
        "\n",
        "A[0:2]"
      ]
    },
    {
      "cell_type": "code",
      "execution_count": null,
      "id": "e4bbbdae",
      "metadata": {
        "id": "e4bbbdae",
        "outputId": "978d29af-d5bf-4ac5-cb9d-40db69e02cf9",
        "colab": {
          "base_uri": "https://localhost:8080/"
        }
      },
      "outputs": [
        {
          "output_type": "execute_result",
          "data": {
            "text/plain": [
              "array([[1, 2],\n",
              "       [4, 5],\n",
              "       [7, 8]])"
            ]
          },
          "metadata": {},
          "execution_count": 35
        }
      ],
      "source": [
        "# [row start:end, col start:end]\n",
        "\n",
        "A[:, :2]"
      ]
    },
    {
      "cell_type": "code",
      "execution_count": null,
      "id": "faf0bc0c",
      "metadata": {
        "id": "faf0bc0c",
        "outputId": "9b96e0d9-b8e8-4d73-bf55-670e5543b898",
        "colab": {
          "base_uri": "https://localhost:8080/"
        }
      },
      "outputs": [
        {
          "output_type": "execute_result",
          "data": {
            "text/plain": [
              "array([[1, 2],\n",
              "       [4, 5]])"
            ]
          },
          "metadata": {},
          "execution_count": 36
        }
      ],
      "source": [
        "# accessing only first 2 rows and 2 col\n",
        "\n",
        "A[:2, :2]"
      ]
    },
    {
      "cell_type": "code",
      "execution_count": null,
      "id": "a4643efc",
      "metadata": {
        "id": "a4643efc",
        "outputId": "cd2f7fbe-7875-4fac-ef31-509e67ae45bb",
        "colab": {
          "base_uri": "https://localhost:8080/"
        }
      },
      "outputs": [
        {
          "output_type": "execute_result",
          "data": {
            "text/plain": [
              "array([[3],\n",
              "       [6]])"
            ]
          },
          "metadata": {},
          "execution_count": 37
        }
      ],
      "source": [
        "#accessing last columns of first 2 rows\n",
        "\n",
        "A[:2, 2:]"
      ]
    },
    {
      "cell_type": "code",
      "execution_count": null,
      "id": "4bb806db",
      "metadata": {
        "id": "4bb806db",
        "outputId": "7cf23bb7-5e47-406c-aec0-815d4d137067",
        "colab": {
          "base_uri": "https://localhost:8080/"
        }
      },
      "outputs": [
        {
          "output_type": "execute_result",
          "data": {
            "text/plain": [
              "array([[1, 2, 3],\n",
              "       [4, 5, 6],\n",
              "       [7, 8, 9]])"
            ]
          },
          "metadata": {},
          "execution_count": 38
        }
      ],
      "source": [
        "A"
      ]
    },
    {
      "cell_type": "code",
      "execution_count": null,
      "id": "4243042d",
      "metadata": {
        "id": "4243042d"
      },
      "outputs": [],
      "source": [
        "#updating values at position A[1]\n",
        "\n",
        "A[1] = np.array([10, 10, 10])"
      ]
    },
    {
      "cell_type": "code",
      "execution_count": null,
      "id": "a780d1ef",
      "metadata": {
        "id": "a780d1ef",
        "outputId": "f6c332e8-8489-4e89-ee29-e7203d3d814a",
        "colab": {
          "base_uri": "https://localhost:8080/"
        }
      },
      "outputs": [
        {
          "output_type": "execute_result",
          "data": {
            "text/plain": [
              "array([[1, 2, 3],\n",
              "       [4, 5, 6],\n",
              "       [7, 8, 9]])"
            ]
          },
          "metadata": {},
          "execution_count": 20
        }
      ],
      "source": [
        "A\n",
        "# Indexing and Slicing of Matrices\n",
        "\n",
        "# Square matrix\n",
        "A = np.array([\n",
        "#.   0. 1. 2\n",
        "    [1, 2, 3], # 0\n",
        "    [4, 5, 6], # 1\n",
        "    [7, 8,9]  # 2\n",
        "])\n",
        "A"
      ]
    },
    {
      "cell_type": "code",
      "execution_count": null,
      "id": "b0b47370",
      "metadata": {
        "id": "b0b47370"
      },
      "outputs": [],
      "source": [
        "# update the entire row with a scalar value.\n",
        "\n",
        "A[2] = 99 #row"
      ]
    },
    {
      "cell_type": "code",
      "execution_count": null,
      "id": "a160fe2a",
      "metadata": {
        "id": "a160fe2a",
        "outputId": "8040556c-e388-47cb-f335-63f9a5aa9ba8",
        "colab": {
          "base_uri": "https://localhost:8080/"
        }
      },
      "outputs": [
        {
          "output_type": "execute_result",
          "data": {
            "text/plain": [
              "array([[ 1,  2,  3],\n",
              "       [ 4,  5,  6],\n",
              "       [99, 99, 99]])"
            ]
          },
          "metadata": {},
          "execution_count": 22
        }
      ],
      "source": [
        "A"
      ]
    },
    {
      "cell_type": "code",
      "execution_count": null,
      "id": "2dcb73e2",
      "metadata": {
        "id": "2dcb73e2"
      },
      "outputs": [],
      "source": [
        "# Statistics Functions\n",
        "\n",
        "a = np.array([1, 2, 3, 4]) # 1 row and 4 columns # 1 d with 4 columns"
      ]
    },
    {
      "cell_type": "code",
      "execution_count": null,
      "id": "cd678851",
      "metadata": {
        "id": "cd678851",
        "outputId": "843d5701-c49e-42a3-b6c8-bc99c89eddfc",
        "colab": {
          "base_uri": "https://localhost:8080/"
        }
      },
      "outputs": [
        {
          "output_type": "execute_result",
          "data": {
            "text/plain": [
              "10"
            ]
          },
          "metadata": {},
          "execution_count": 44
        }
      ],
      "source": [
        "# add up all values of an array\n",
        "a.sum()"
      ]
    },
    {
      "cell_type": "code",
      "execution_count": null,
      "id": "c6098947",
      "metadata": {
        "id": "c6098947",
        "outputId": "a0a1daaf-2e01-4671-e441-07ff6b1deab2",
        "colab": {
          "base_uri": "https://localhost:8080/"
        }
      },
      "outputs": [
        {
          "output_type": "execute_result",
          "data": {
            "text/plain": [
              "6.5"
            ]
          },
          "metadata": {},
          "execution_count": 46
        }
      ],
      "source": [
        "#calculate mean\n",
        "B.mean()"
      ]
    },
    {
      "cell_type": "code",
      "execution_count": null,
      "id": "bae88aaa",
      "metadata": {
        "id": "bae88aaa",
        "outputId": "bed11d3c-dae1-4e51-a599-d563a9418696",
        "colab": {
          "base_uri": "https://localhost:8080/"
        }
      },
      "outputs": [
        {
          "output_type": "execute_result",
          "data": {
            "text/plain": [
              "1.118033988749895"
            ]
          },
          "metadata": {},
          "execution_count": 24
        }
      ],
      "source": [
        "#calculate standard deviation\n",
        "a.std()"
      ]
    },
    {
      "cell_type": "code",
      "execution_count": null,
      "id": "723b8087",
      "metadata": {
        "id": "723b8087",
        "outputId": "8612dac7-3899-46c2-8673-fd8528625526",
        "colab": {
          "base_uri": "https://localhost:8080/"
        }
      },
      "outputs": [
        {
          "output_type": "execute_result",
          "data": {
            "text/plain": [
              "1.25"
            ]
          },
          "metadata": {},
          "execution_count": 25
        }
      ],
      "source": [
        "#calculate variance\n",
        "a.var()"
      ]
    },
    {
      "cell_type": "code",
      "execution_count": null,
      "id": "05fbd7f0",
      "metadata": {
        "id": "05fbd7f0",
        "outputId": "43fcf3d7-a607-4316-8465-e27dddc0784b",
        "colab": {
          "base_uri": "https://localhost:8080/"
        }
      },
      "outputs": [
        {
          "output_type": "execute_result",
          "data": {
            "text/plain": [
              "45"
            ]
          },
          "metadata": {},
          "execution_count": 26
        }
      ],
      "source": [
        "#Example\n",
        "\n",
        "A = np.array([\n",
        "    [1, 2, 3],\n",
        "    [4, 5, 6],\n",
        "    [7, 8, 9]\n",
        "])\n",
        "A.sum()"
      ]
    },
    {
      "cell_type": "code",
      "execution_count": null,
      "id": "4fccbb1f",
      "metadata": {
        "id": "4fccbb1f",
        "outputId": "4070d1dc-1e3e-45b3-a051-c4ee1accd927",
        "colab": {
          "base_uri": "https://localhost:8080/"
        }
      },
      "outputs": [
        {
          "output_type": "execute_result",
          "data": {
            "text/plain": [
              "array([12, 15, 18])"
            ]
          },
          "metadata": {},
          "execution_count": 27
        }
      ],
      "source": [
        "#col wise addition\n",
        "\n",
        "A.sum(axis=0)"
      ]
    },
    {
      "cell_type": "code",
      "execution_count": null,
      "id": "230a33de",
      "metadata": {
        "id": "230a33de",
        "outputId": "701cfee2-be24-4367-da53-372587599e64",
        "colab": {
          "base_uri": "https://localhost:8080/"
        }
      },
      "outputs": [
        {
          "output_type": "execute_result",
          "data": {
            "text/plain": [
              "array([ 6, 15, 24])"
            ]
          },
          "metadata": {},
          "execution_count": 51
        }
      ],
      "source": [
        "#row wise addition\n",
        "\n",
        "A.sum(axis=1) # axis=1 row wise additon"
      ]
    },
    {
      "cell_type": "code",
      "execution_count": null,
      "id": "05f1fa97",
      "metadata": {
        "id": "05f1fa97",
        "outputId": "94658304-15aa-4dc5-c3d3-71ded2fb8863",
        "colab": {
          "base_uri": "https://localhost:8080/"
        }
      },
      "outputs": [
        {
          "output_type": "execute_result",
          "data": {
            "text/plain": [
              "array([4., 5., 6.])"
            ]
          },
          "metadata": {},
          "execution_count": 52
        }
      ],
      "source": [
        "#col wise mean\n",
        "\n",
        "A.mean(axis=0)\n",
        "\n",
        "# Mean of the first column [1, 4, 7] is (1 + 4 + 7) / 3 = 4.0.\n",
        "# Mean of the second column [2, 5, 8] is (2 + 5 + 8) / 3 = 5.0.\n",
        "# Mean of the third column [3, 6, 9] is (3 + 6 + 9) / 3 = 6.0."
      ]
    },
    {
      "cell_type": "code",
      "execution_count": null,
      "id": "1e718289",
      "metadata": {
        "id": "1e718289",
        "outputId": "4919c8e4-5a06-4e77-9ba8-87e628f997b1",
        "colab": {
          "base_uri": "https://localhost:8080/"
        }
      },
      "outputs": [
        {
          "output_type": "execute_result",
          "data": {
            "text/plain": [
              "array([2., 5., 8.])"
            ]
          },
          "metadata": {},
          "execution_count": 53
        }
      ],
      "source": [
        "#row wise mean\n",
        "\n",
        "A.mean(axis=1)\n",
        "\n",
        "# Mean of the first row [1, 2, 3] is (1 + 2 + 3) / 3 = 2.0.\n",
        "# Mean of the second row [4, 5, 6] is (4 + 5 + 6) / 3 = 5.0.\n",
        "# Mean of the third row [7, 8, 9] is (7 + 8 + 9) / 3 = 8.0."
      ]
    },
    {
      "cell_type": "code",
      "execution_count": null,
      "id": "8c6287de",
      "metadata": {
        "id": "8c6287de",
        "outputId": "9e9e2d57-6804-4f08-e7cc-9b6c5a0635b2",
        "colab": {
          "base_uri": "https://localhost:8080/"
        }
      },
      "outputs": [
        {
          "output_type": "execute_result",
          "data": {
            "text/plain": [
              "array([0, 1, 2, 3])"
            ]
          },
          "metadata": {},
          "execution_count": 54
        }
      ],
      "source": [
        "# Broadcasting and Vectorized operations\n",
        "\n",
        "# create a NumPy array with sequential integer values ranging from 0 to 3.\n",
        "a = np.arange(4) #like python range() function\n",
        "\n",
        "a\n"
      ]
    },
    {
      "cell_type": "code",
      "execution_count": null,
      "id": "38025954",
      "metadata": {
        "id": "38025954",
        "outputId": "58eecc65-c232-4966-fe5c-2141c4fb2cbe",
        "colab": {
          "base_uri": "https://localhost:8080/"
        }
      },
      "outputs": [
        {
          "output_type": "execute_result",
          "data": {
            "text/plain": [
              "array([10, 11, 12, 13])"
            ]
          },
          "metadata": {},
          "execution_count": 55
        }
      ],
      "source": [
        "#this will add up 10 to all elements of the array\n",
        "\n",
        "a + 10 # element wise operations"
      ]
    },
    {
      "cell_type": "code",
      "execution_count": null,
      "id": "aa76851f",
      "metadata": {
        "id": "aa76851f",
        "outputId": "3b1977eb-5828-4804-d9ab-4702b92a68ba",
        "colab": {
          "base_uri": "https://localhost:8080/"
        }
      },
      "outputs": [
        {
          "output_type": "execute_result",
          "data": {
            "text/plain": [
              "array([ 0, 10, 20, 30])"
            ]
          },
          "metadata": {},
          "execution_count": 56
        }
      ],
      "source": [
        "a * 10\n"
      ]
    },
    {
      "cell_type": "code",
      "execution_count": null,
      "id": "ab39d874",
      "metadata": {
        "id": "ab39d874",
        "outputId": "a3ae7db7-b914-415d-d839-0490902808b9",
        "colab": {
          "base_uri": "https://localhost:8080/"
        }
      },
      "outputs": [
        {
          "output_type": "execute_result",
          "data": {
            "text/plain": [
              "array([0, 1, 2, 3])"
            ]
          },
          "metadata": {},
          "execution_count": 57
        }
      ],
      "source": [
        "# array a remains unchanched as the changes are not assigned to it\n",
        "a"
      ]
    },
    {
      "cell_type": "code",
      "execution_count": null,
      "id": "200fd846",
      "metadata": {
        "id": "200fd846"
      },
      "outputs": [],
      "source": [
        "#equal to a = a + 100\n",
        "a += 100"
      ]
    },
    {
      "cell_type": "code",
      "execution_count": null,
      "id": "66423e2c",
      "metadata": {
        "id": "66423e2c",
        "outputId": "633fec89-66a1-40a4-df0a-08cc17425dab",
        "colab": {
          "base_uri": "https://localhost:8080/"
        }
      },
      "outputs": [
        {
          "output_type": "execute_result",
          "data": {
            "text/plain": [
              "array([100, 101, 102, 103])"
            ]
          },
          "metadata": {},
          "execution_count": 59
        }
      ],
      "source": [
        "#array is now changed\n",
        "a"
      ]
    },
    {
      "cell_type": "code",
      "execution_count": null,
      "id": "d74fecc9",
      "metadata": {
        "id": "d74fecc9"
      },
      "outputs": [],
      "source": [
        "b = np.array([10, 10, 10, 10])"
      ]
    },
    {
      "cell_type": "code",
      "execution_count": null,
      "id": "bea23bb4",
      "metadata": {
        "id": "bea23bb4",
        "outputId": "e35b539a-318a-450b-c109-14b1e01cdad4",
        "colab": {
          "base_uri": "https://localhost:8080/"
        }
      },
      "outputs": [
        {
          "output_type": "execute_result",
          "data": {
            "text/plain": [
              "array([110, 111, 112, 113])"
            ]
          },
          "metadata": {},
          "execution_count": 61
        }
      ],
      "source": [
        "a + b"
      ]
    },
    {
      "cell_type": "code",
      "source": [
        "# you can use the + operator to append (or concatenate) two lists in Python\n",
        "\n",
        "list1 = [1, 2, 3]\n",
        "list2 = [4, 5, 6]\n",
        "\n",
        "result = list1 + list2\n",
        "print(result)"
      ],
      "metadata": {
        "colab": {
          "base_uri": "https://localhost:8080/"
        },
        "id": "c8Ug6DE9h7-h",
        "outputId": "93b711db-e06b-4481-ddfd-d60537acb16c"
      },
      "id": "c8Ug6DE9h7-h",
      "execution_count": null,
      "outputs": [
        {
          "output_type": "stream",
          "name": "stdout",
          "text": [
            "[1, 2, 3, 4, 5, 6]\n"
          ]
        }
      ]
    },
    {
      "cell_type": "code",
      "execution_count": null,
      "id": "01821566",
      "metadata": {
        "id": "01821566",
        "outputId": "fb698334-a738-47a9-cb94-7068459b51e8",
        "colab": {
          "base_uri": "https://localhost:8080/"
        }
      },
      "outputs": [
        {
          "output_type": "execute_result",
          "data": {
            "text/plain": [
              "array([1000, 1010, 1020, 1030])"
            ]
          },
          "metadata": {},
          "execution_count": 62
        }
      ],
      "source": [
        "a * b"
      ]
    },
    {
      "cell_type": "markdown",
      "id": "6bf76c5d",
      "metadata": {
        "id": "6bf76c5d"
      },
      "source": [
        "##### Numpy functions\n",
        "\n",
        "1. random"
      ]
    },
    {
      "cell_type": "code",
      "execution_count": null,
      "id": "2ddc5870",
      "metadata": {
        "id": "2ddc5870",
        "outputId": "113acd9b-0d6f-44d9-a262-44734cbbe4d1"
      },
      "outputs": [
        {
          "data": {
            "text/plain": [
              "array([0.5832415 , 0.74699502])"
            ]
          },
          "execution_count": 111,
          "metadata": {},
          "output_type": "execute_result"
        }
      ],
      "source": [
        "A = np.random.random(size=2) 0-0.99999999\n",
        "\n",
        "# Generates random numbers from a uniform distribution\n",
        "# between 0 (inclusive) and 1 (exclusive).\n",
        "# The argument size specifies the shape of the output array.\n",
        "# size=2 means it will generate an array with two random values.\n",
        "A"
      ]
    },
    {
      "cell_type": "code",
      "execution_count": null,
      "id": "8b4fb096",
      "metadata": {
        "id": "8b4fb096",
        "outputId": "a3585d05-c88e-4d09-f5f7-5fe2ac36f226"
      },
      "outputs": [
        {
          "data": {
            "text/plain": [
              "array([1.70790842, 2.49460504])"
            ]
          },
          "execution_count": 112,
          "metadata": {},
          "output_type": "execute_result"
        }
      ],
      "source": [
        "B = np.random.normal(size=2)\n",
        "# Generates random numbers from a normal (Gaussian) distribution\n",
        "# with a mean of 0 and a standard deviation of 1 by default.\n",
        "# The argument size specifies the shape of the output array.\n",
        "# size=2 means it will generate an array with two random values.\n",
        "B"
      ]
    },
    {
      "cell_type": "code",
      "execution_count": null,
      "id": "8a6e2be0",
      "metadata": {
        "id": "8a6e2be0",
        "outputId": "d4a249ac-24e9-44a2-b259-676d72ed5044"
      },
      "outputs": [
        {
          "data": {
            "text/plain": [
              "array([[0.38200965, 0.41677427, 0.94861073, 0.03478475],\n",
              "       [0.96185418, 0.05831187, 0.70511718, 0.90322871]])"
            ]
          },
          "execution_count": 113,
          "metadata": {},
          "output_type": "execute_result"
        }
      ],
      "source": [
        "C = np.random.rand(2, 4)\n",
        "# Generates random numbers from a uniform distribution between 0 (inclusive) and 1 (exclusive).\n",
        "# The rand function is typically used to generate random values\n",
        "# that follow a uniform distribution.\n",
        "# The argument 2, 4 specifies the shape of the output array.\n",
        "# 2 rows and 4 columns filled with random values between 0 and 1.\n",
        "C"
      ]
    },
    {
      "cell_type": "code",
      "execution_count": null,
      "id": "14a3066f",
      "metadata": {
        "id": "14a3066f"
      },
      "outputs": [],
      "source": [
        "# create an array of 3 rows and 3 columns with random values from 0 to 100\n",
        "\n",
        "A = np.random.randint(100, size=(2, 3, 3))"
      ]
    },
    {
      "cell_type": "code",
      "execution_count": null,
      "id": "f57b4f8e",
      "metadata": {
        "id": "f57b4f8e",
        "outputId": "21b74c3a-3c9b-4669-988c-775fe450ce44",
        "colab": {
          "base_uri": "https://localhost:8080/"
        }
      },
      "outputs": [
        {
          "output_type": "execute_result",
          "data": {
            "text/plain": [
              "array([[[12, 36, 18],\n",
              "        [66, 29, 27],\n",
              "        [40, 66, 37]],\n",
              "\n",
              "       [[55, 69, 19],\n",
              "        [79, 21, 60],\n",
              "        [ 6, 35, 76]]])"
            ]
          },
          "metadata": {},
          "execution_count": 65
        }
      ],
      "source": [
        "A"
      ]
    },
    {
      "cell_type": "markdown",
      "id": "892431f9",
      "metadata": {
        "id": "892431f9"
      },
      "source": [
        "###### 2. arange"
      ]
    },
    {
      "cell_type": "code",
      "execution_count": null,
      "id": "1ed8d959",
      "metadata": {
        "id": "1ed8d959",
        "outputId": "47eeeb51-baa7-4d99-a09f-432afc6f8ea6"
      },
      "outputs": [
        {
          "data": {
            "text/plain": [
              "array([0, 1, 2, 3, 4, 5, 6, 7, 8, 9])"
            ]
          },
          "execution_count": 116,
          "metadata": {},
          "output_type": "execute_result"
        }
      ],
      "source": [
        "A = np.arange(10)\n",
        "# Generates a 1-dimensional array with values from 0 up to,\n",
        "# but not including, 10.\n",
        "A"
      ]
    },
    {
      "cell_type": "code",
      "execution_count": null,
      "id": "c4faafab",
      "metadata": {
        "id": "c4faafab",
        "outputId": "50f57d41-aa99-44f5-d435-f1edc58b2f6d",
        "colab": {
          "base_uri": "https://localhost:8080/"
        }
      },
      "outputs": [
        {
          "output_type": "execute_result",
          "data": {
            "text/plain": [
              "array([5, 6, 7, 8, 9])"
            ]
          },
          "metadata": {},
          "execution_count": 66
        }
      ],
      "source": [
        "B = np.arange(5, 10)\n",
        "# Generate a 1-dimensional array with values starting from 5\n",
        "# and going up to, but not including, 10.\n",
        "B"
      ]
    },
    {
      "cell_type": "code",
      "execution_count": null,
      "id": "a848cfab",
      "metadata": {
        "colab": {
          "base_uri": "https://localhost:8080/"
        },
        "id": "a848cfab",
        "outputId": "aa56514b-5be5-4ad2-9e50-d89d7c59bf34"
      },
      "outputs": [
        {
          "output_type": "execute_result",
          "data": {
            "text/plain": [
              "array([0. , 0.1, 0.2, 0.3, 0.4, 0.5, 0.6, 0.7, 0.8, 0.9])"
            ]
          },
          "metadata": {},
          "execution_count": 67
        }
      ],
      "source": [
        "C = np.arange(0, 1, .1)\n",
        "# Generate a sequence of numbers starting from 0 and incrementing by 0.1\n",
        "# until it reaches a value just less than 1\n",
        "C"
      ]
    },
    {
      "cell_type": "markdown",
      "id": "2d6601f0",
      "metadata": {
        "id": "2d6601f0"
      },
      "source": [
        "##### 3. reshape"
      ]
    },
    {
      "cell_type": "code",
      "execution_count": null,
      "id": "65c032d2",
      "metadata": {
        "id": "65c032d2",
        "outputId": "2cd84e89-ac5b-4bc7-b8e1-f10ac9df7fcb",
        "colab": {
          "base_uri": "https://localhost:8080/"
        }
      },
      "outputs": [
        {
          "output_type": "execute_result",
          "data": {
            "text/plain": [
              "array([[0, 1, 2],\n",
              "       [3, 4, 5],\n",
              "       [6, 7, 8]])"
            ]
          },
          "metadata": {},
          "execution_count": 74
        }
      ],
      "source": [
        "A = np.arange(9).reshape(3, 3)\n",
        "# creates a 1-dimensional NumPy array with values from 0 to 9 (inclusive),\n",
        "# then arranges the values into a 2-dimensional array with 2 rows and 5 columns\n",
        "A"
      ]
    },
    {
      "cell_type": "code",
      "execution_count": null,
      "id": "86c16c64",
      "metadata": {
        "id": "86c16c64",
        "outputId": "7b604913-3a1a-4662-88d8-67e1ed341372",
        "colab": {
          "base_uri": "https://localhost:8080/"
        }
      },
      "outputs": [
        {
          "output_type": "execute_result",
          "data": {
            "text/plain": [
              "array([[0, 1],\n",
              "       [2, 3],\n",
              "       [4, 5],\n",
              "       [6, 7],\n",
              "       [8, 9]])"
            ]
          },
          "metadata": {},
          "execution_count": 75
        }
      ],
      "source": [
        "B = np.arange(10).reshape(5, 2)\n",
        "# creates a 1-dimensional array with values from 0 to 9 (inclusive),\n",
        "# then arranges the values into a 2-dimensional array with 5 rows and 2 columns\n",
        "B"
      ]
    },
    {
      "cell_type": "markdown",
      "id": "8d33e24a",
      "metadata": {
        "id": "8d33e24a"
      },
      "source": [
        "##### 4. linspace"
      ]
    },
    {
      "cell_type": "code",
      "execution_count": null,
      "id": "008d3cc3",
      "metadata": {
        "id": "008d3cc3",
        "outputId": "a2ab13a1-985b-426e-a0af-d7d70f676ae6"
      },
      "outputs": [
        {
          "data": {
            "text/plain": [
              "array([0.  , 0.25, 0.5 , 0.75, 1.  ])"
            ]
          },
          "execution_count": 91,
          "metadata": {},
          "output_type": "execute_result"
        }
      ],
      "source": [
        "A = np.linspace(0, 1, 5)\n",
        "# generates 5 evenly spaced values between 0 (inclusive) and 1 (inclusive)\n",
        "A"
      ]
    },
    {
      "cell_type": "code",
      "execution_count": null,
      "id": "610a02cc",
      "metadata": {
        "id": "610a02cc",
        "outputId": "e8ecf87b-d335-4c47-eed2-c1cb014b6bf4"
      },
      "outputs": [
        {
          "data": {
            "text/plain": [
              "array([0.        , 0.05263158, 0.10526316, 0.15789474, 0.21052632,\n",
              "       0.26315789, 0.31578947, 0.36842105, 0.42105263, 0.47368421,\n",
              "       0.52631579, 0.57894737, 0.63157895, 0.68421053, 0.73684211,\n",
              "       0.78947368, 0.84210526, 0.89473684, 0.94736842, 1.        ])"
            ]
          },
          "execution_count": 122,
          "metadata": {},
          "output_type": "execute_result"
        }
      ],
      "source": [
        "B = np.linspace(0, 1, 20)\n",
        "# generates 20 evenly spaced values between 0 (inclusive) and 1 (inclusive).\n",
        "B"
      ]
    },
    {
      "cell_type": "code",
      "execution_count": null,
      "id": "87a0f9be",
      "metadata": {
        "id": "87a0f9be",
        "outputId": "78579ef1-d9c3-4333-cf00-31cfa9b7906f"
      },
      "outputs": [
        {
          "data": {
            "text/plain": [
              "array([0.  , 0.05, 0.1 , 0.15, 0.2 , 0.25, 0.3 , 0.35, 0.4 , 0.45, 0.5 ,\n",
              "       0.55, 0.6 , 0.65, 0.7 , 0.75, 0.8 , 0.85, 0.9 , 0.95])"
            ]
          },
          "execution_count": 123,
          "metadata": {},
          "output_type": "execute_result"
        }
      ],
      "source": [
        "C = np.linspace(0, 1, 20, False)\n",
        "# generates 20 evenly spaced values between 0 (inclusive) and 1,\n",
        "# but it doesn't include the endpoint (1.0)\n",
        "C"
      ]
    },
    {
      "cell_type": "markdown",
      "source": [
        "**Reorganizing Arrays**"
      ],
      "metadata": {
        "id": "mj8r4NDPlOs4"
      },
      "id": "mj8r4NDPlOs4"
    },
    {
      "cell_type": "code",
      "source": [
        "before = np.array([[1,2,3,4],[5,6,7,8]])\n",
        "print(before)\n",
        "\n",
        "after = before.reshape((4,2))\n",
        "print(after)"
      ],
      "metadata": {
        "colab": {
          "base_uri": "https://localhost:8080/"
        },
        "id": "vcK4mfMylOLj",
        "outputId": "4685958a-c11f-4083-d5ed-c90acb5fe49c"
      },
      "id": "vcK4mfMylOLj",
      "execution_count": null,
      "outputs": [
        {
          "output_type": "stream",
          "name": "stdout",
          "text": [
            "[[1 2 3 4]\n",
            " [5 6 7 8]]\n",
            "[[1 2]\n",
            " [3 4]\n",
            " [5 6]\n",
            " [7 8]]\n"
          ]
        }
      ]
    },
    {
      "cell_type": "code",
      "source": [
        "# Vertically stacking\n",
        "\n",
        "v1 = np.array([[1,2,3,4], [3,3,3,3]])\n",
        "v2 = np.array([[5,6,7,8], [2,2,2,2]])\n",
        "\n",
        "np.vstack([v1,v2])"
      ],
      "metadata": {
        "colab": {
          "base_uri": "https://localhost:8080/"
        },
        "id": "VL1ZKFwUlOId",
        "outputId": "d4ac66be-c26c-482b-9d17-ec13cf15622d"
      },
      "id": "VL1ZKFwUlOId",
      "execution_count": null,
      "outputs": [
        {
          "output_type": "execute_result",
          "data": {
            "text/plain": [
              "array([[1, 2, 3, 4],\n",
              "       [3, 3, 3, 3],\n",
              "       [5, 6, 7, 8],\n",
              "       [2, 2, 2, 2]])"
            ]
          },
          "metadata": {},
          "execution_count": 81
        }
      ]
    },
    {
      "cell_type": "code",
      "source": [
        "# Horizontal  stack\n",
        "\n",
        "v1 = np.array([[1,2,3,4], [3,3,3,3]])\n",
        "v2 = np.array([[5,6,7,8], [2,2,2,2]])\n",
        "\n",
        "np.hstack((v1,v2))"
      ],
      "metadata": {
        "colab": {
          "base_uri": "https://localhost:8080/"
        },
        "id": "ipND8cyQlOFp",
        "outputId": "e2e4614e-d4b3-4f2c-e447-b7b76c71c673"
      },
      "id": "ipND8cyQlOFp",
      "execution_count": null,
      "outputs": [
        {
          "output_type": "execute_result",
          "data": {
            "text/plain": [
              "array([[1, 2, 3, 4, 5, 6, 7, 8],\n",
              "       [3, 3, 3, 3, 2, 2, 2, 2]])"
            ]
          },
          "metadata": {},
          "execution_count": 80
        }
      ]
    },
    {
      "cell_type": "code",
      "source": [],
      "metadata": {
        "id": "_rIinKSilOC0"
      },
      "id": "_rIinKSilOC0",
      "execution_count": null,
      "outputs": []
    },
    {
      "cell_type": "code",
      "source": [],
      "metadata": {
        "id": "tdOAOYGflOAV"
      },
      "id": "tdOAOYGflOAV",
      "execution_count": null,
      "outputs": []
    },
    {
      "cell_type": "code",
      "source": [],
      "metadata": {
        "id": "onR9mhDJlN9j"
      },
      "id": "onR9mhDJlN9j",
      "execution_count": null,
      "outputs": []
    },
    {
      "cell_type": "code",
      "source": [],
      "metadata": {
        "id": "DQOR8lSwlN62"
      },
      "id": "DQOR8lSwlN62",
      "execution_count": null,
      "outputs": []
    },
    {
      "cell_type": "code",
      "source": [],
      "metadata": {
        "id": "8g44qQm4lNhW"
      },
      "id": "8g44qQm4lNhW",
      "execution_count": null,
      "outputs": []
    },
    {
      "cell_type": "markdown",
      "id": "2c6f93ed",
      "metadata": {
        "id": "2c6f93ed"
      },
      "source": [
        "##### 5. zeros, ones, empty"
      ]
    },
    {
      "cell_type": "code",
      "execution_count": null,
      "id": "cc5fad51",
      "metadata": {
        "id": "cc5fad51",
        "outputId": "df704026-0239-4393-b41b-db37b290b86b"
      },
      "outputs": [
        {
          "data": {
            "text/plain": [
              "array([0., 0., 0., 0., 0.])"
            ]
          },
          "execution_count": 97,
          "metadata": {},
          "output_type": "execute_result"
        }
      ],
      "source": [
        "A = np.zeros(5)\n",
        "# generates 1D array with five zeros\n",
        "A"
      ]
    },
    {
      "cell_type": "code",
      "execution_count": null,
      "id": "8cdcf85c",
      "metadata": {
        "id": "8cdcf85c",
        "outputId": "0d58fab7-a03c-4c1c-c1a8-dd3d05091a0d"
      },
      "outputs": [
        {
          "data": {
            "text/plain": [
              "array([[0., 0., 0.],\n",
              "       [0., 0., 0.],\n",
              "       [0., 0., 0.]])"
            ]
          },
          "execution_count": 98,
          "metadata": {},
          "output_type": "execute_result"
        }
      ],
      "source": [
        "B = np.zeros((3, 3))\n",
        "# generates 2D array with 3 rows and 3 columns filled with 0s\n",
        "B"
      ]
    },
    {
      "cell_type": "code",
      "execution_count": null,
      "id": "66f4563d",
      "metadata": {
        "id": "66f4563d",
        "outputId": "e2111090-e01c-4c01-f321-250c60ac8530"
      },
      "outputs": [
        {
          "data": {
            "text/plain": [
              "array([1., 1., 1., 1., 1.])"
            ]
          },
          "execution_count": 99,
          "metadata": {},
          "output_type": "execute_result"
        }
      ],
      "source": [
        "C = np.ones(5)\n",
        "# generates 1D array with five ones\n",
        "C"
      ]
    },
    {
      "cell_type": "code",
      "execution_count": null,
      "id": "b5218ca2",
      "metadata": {
        "id": "b5218ca2",
        "outputId": "e53325b1-b2c6-4016-a6ab-6d1e80400a8a"
      },
      "outputs": [
        {
          "data": {
            "text/plain": [
              "array([[1., 1., 1.],\n",
              "       [1., 1., 1.],\n",
              "       [1., 1., 1.]])"
            ]
          },
          "execution_count": 100,
          "metadata": {},
          "output_type": "execute_result"
        }
      ],
      "source": [
        "D = np.ones((3, 3))\n",
        "# generates 2D array with 3 rows and 3 columns filled with 1s\n",
        "D"
      ]
    },
    {
      "cell_type": "code",
      "execution_count": null,
      "id": "d8affb13",
      "metadata": {
        "id": "d8affb13",
        "outputId": "553284f5-1ca7-4198-b03b-20b59a787d35"
      },
      "outputs": [
        {
          "data": {
            "text/plain": [
              "array([2.12199579e-314, 4.67296746e-307, 3.71537366e-321, 3.79442416e-321,\n",
              "       2.33422678e-312])"
            ]
          },
          "execution_count": 126,
          "metadata": {},
          "output_type": "execute_result"
        }
      ],
      "source": [
        "E = np.empty(5)\n",
        "# allocates memory for a 1D array with five elements\n",
        "# but does not set their values to any specific initial values.\n",
        "#The values in E will also be uninitialized and may appear as random numbers.\n",
        "E"
      ]
    },
    {
      "cell_type": "code",
      "execution_count": null,
      "id": "ad215437",
      "metadata": {
        "id": "ad215437",
        "outputId": "10a85954-46a5-4760-e7c0-d5eb5585b1d1"
      },
      "outputs": [
        {
          "data": {
            "text/plain": [
              "array([[1., 1.],\n",
              "       [1., 1.]])"
            ]
          },
          "execution_count": 127,
          "metadata": {},
          "output_type": "execute_result"
        }
      ],
      "source": [
        "F = np.empty((2, 2))\n",
        "# 2D array with 2 rows and 2 columns without specific initial values.\n",
        "# The values in F will also be uninitialized and may appear as random numbers.\n",
        "F"
      ]
    },
    {
      "cell_type": "markdown",
      "id": "dd347343",
      "metadata": {
        "id": "dd347343"
      },
      "source": [
        "##### 6. identity and eye"
      ]
    },
    {
      "cell_type": "code",
      "execution_count": null,
      "id": "11e8a8f5",
      "metadata": {
        "id": "11e8a8f5",
        "outputId": "cc681a8d-2ec2-4cb8-ed66-15d0b760822a"
      },
      "outputs": [
        {
          "data": {
            "text/plain": [
              "array([[1., 0., 0.],\n",
              "       [0., 1., 0.],\n",
              "       [0., 0., 1.]])"
            ]
          },
          "execution_count": 104,
          "metadata": {},
          "output_type": "execute_result"
        }
      ],
      "source": [
        "A = np.identity(3)\n",
        "# An identity matrix is a square matrix where all the diagonal elements are 1,\n",
        "# and all other elements are 0\n",
        "A"
      ]
    },
    {
      "cell_type": "code",
      "execution_count": null,
      "id": "2a9856ed",
      "metadata": {
        "id": "2a9856ed",
        "outputId": "725b21d9-028c-4b33-eb41-3cca79fe76bd"
      },
      "outputs": [
        {
          "data": {
            "text/plain": [
              "array([[1., 0., 0.],\n",
              "       [0., 1., 0.],\n",
              "       [0., 0., 1.]])"
            ]
          },
          "execution_count": 128,
          "metadata": {},
          "output_type": "execute_result"
        }
      ],
      "source": [
        "B = np.eye(3, 3)\n",
        "# creates a 3x3 identity matrix.\n",
        "#The np.eye() function allows specifying the number of rows and columns\n",
        "B"
      ]
    },
    {
      "cell_type": "code",
      "execution_count": null,
      "id": "2bf30ba1",
      "metadata": {
        "id": "2bf30ba1",
        "outputId": "6d7ca340-c2bf-4310-ddf0-9640b34a9d0b"
      },
      "outputs": [
        {
          "data": {
            "text/plain": [
              "array([[1., 0., 0., 0.],\n",
              "       [0., 1., 0., 0.],\n",
              "       [0., 0., 1., 0.],\n",
              "       [0., 0., 0., 1.],\n",
              "       [0., 0., 0., 0.],\n",
              "       [0., 0., 0., 0.],\n",
              "       [0., 0., 0., 0.],\n",
              "       [0., 0., 0., 0.]])"
            ]
          },
          "execution_count": 130,
          "metadata": {},
          "output_type": "execute_result"
        }
      ],
      "source": [
        "C = np.eye(8, 4)\n",
        "# creating a non-square identity matrix,\n",
        "# 8x4 matrix where the diagonal elements are 1, and all other elements are 0.\n",
        "C"
      ]
    },
    {
      "cell_type": "code",
      "execution_count": null,
      "id": "afa33bd4",
      "metadata": {
        "id": "afa33bd4",
        "outputId": "f126319d-9537-412d-be22-e349db4f42fa"
      },
      "outputs": [
        {
          "data": {
            "text/plain": [
              "array([[0., 1., 0., 0.],\n",
              "       [0., 0., 1., 0.],\n",
              "       [0., 0., 0., 1.],\n",
              "       [0., 0., 0., 0.],\n",
              "       [0., 0., 0., 0.],\n",
              "       [0., 0., 0., 0.],\n",
              "       [0., 0., 0., 0.],\n",
              "       [0., 0., 0., 0.]])"
            ]
          },
          "execution_count": 129,
          "metadata": {},
          "output_type": "execute_result"
        }
      ],
      "source": [
        "D = np.eye(8, 4, k=1)\n",
        "# creates an 8x4 identity matrix with an offset of 1,\n",
        "# meaning that the 1's start one position to the right of the main diagonal.\n",
        "D"
      ]
    },
    {
      "cell_type": "code",
      "execution_count": null,
      "id": "5d211490",
      "metadata": {
        "id": "5d211490",
        "outputId": "ea6fa54e-6777-4bc9-e698-c8ed9e4757a0"
      },
      "outputs": [
        {
          "data": {
            "text/plain": [
              "array([[0., 0., 0., 0.],\n",
              "       [0., 0., 0., 0.],\n",
              "       [0., 0., 0., 0.],\n",
              "       [1., 0., 0., 0.],\n",
              "       [0., 1., 0., 0.],\n",
              "       [0., 0., 1., 0.],\n",
              "       [0., 0., 0., 1.],\n",
              "       [0., 0., 0., 0.]])"
            ]
          },
          "execution_count": 108,
          "metadata": {},
          "output_type": "execute_result"
        }
      ],
      "source": [
        "E = np.eye(8, 4, k=-3)\n",
        "# creates an 8x4 identity matrix with an offset of -3,\n",
        "# meaning that the 1's start three positions to the left of the main diagonal.\n",
        "E"
      ]
    },
    {
      "cell_type": "code",
      "execution_count": null,
      "id": "bc6cfa67",
      "metadata": {
        "id": "bc6cfa67"
      },
      "outputs": [],
      "source": []
    }
  ],
  "metadata": {
    "kernelspec": {
      "display_name": "Python 3 (ipykernel)",
      "language": "python",
      "name": "python3"
    },
    "language_info": {
      "codemirror_mode": {
        "name": "ipython",
        "version": 3
      },
      "file_extension": ".py",
      "mimetype": "text/x-python",
      "name": "python",
      "nbconvert_exporter": "python",
      "pygments_lexer": "ipython3",
      "version": "3.9.13"
    },
    "colab": {
      "provenance": []
    }
  },
  "nbformat": 4,
  "nbformat_minor": 5
}