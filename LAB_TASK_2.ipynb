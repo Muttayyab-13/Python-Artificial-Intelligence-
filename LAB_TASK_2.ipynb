{
  "nbformat": 4,
  "nbformat_minor": 0,
  "metadata": {
    "colab": {
      "provenance": []
    },
    "kernelspec": {
      "name": "python3",
      "display_name": "Python 3"
    },
    "language_info": {
      "name": "python"
    }
  },
  "cells": [
    {
      "cell_type": "markdown",
      "source": [
        "## Question 1\n",
        "Q1: List Operations\n",
        "Create a list of numbers and perform the following operations:\n",
        "* Add an element.\n",
        "* Remove an element.\n",
        "* Sort the list.\n",
        "- Dictionary Operations\n",
        "Create a dictionary to store student names and their marks. Perform the following operations:\n",
        "* Add a new user\n",
        "* Update the marks of an existing user.\n",
        "* Delete a user\n",
        "Create a function to calculate area"
      ],
      "metadata": {
        "id": "nWW7ThVgtoMu"
      }
    },
    {
      "cell_type": "code",
      "execution_count": null,
      "metadata": {
        "colab": {
          "base_uri": "https://localhost:8080/"
        },
        "id": "v7KgyTBCtkQv",
        "outputId": "f626bc82-922d-4652-a036-bf8716959f8f"
      },
      "outputs": [
        {
          "output_type": "stream",
          "name": "stdout",
          "text": [
            "Updated List: [2, 3, 4, 5]\n",
            "Updated Dictionary: {'Ali': 85, 'Sara': 95, 'Muttayyab': 92}\n",
            "Area: 15\n"
          ]
        }
      ],
      "source": [
        "numbers = [3, 1, 4, 2]\n",
        "numbers.append(5)\n",
        "numbers.remove(1)\n",
        "numbers.sort()\n",
        "print(\"Updated List:\", numbers)\n",
        "\n",
        "students = {\n",
        "    \"Ali\": 85,\n",
        "    \"Sara\": 90,\n",
        "    \"John\": 78\n",
        "}\n",
        "students[\"Muttayyab\"] = 92\n",
        "students[\"Sara\"] = 95\n",
        "del students[\"John\"]\n",
        "print(\"Updated Dictionary:\", students)\n",
        "\n",
        "def calculate_area(length, width):\n",
        "    return length * width\n",
        "\n",
        "area = calculate_area(5, 3)\n",
        "print(\"Area:\", area)\n"
      ]
    },
    {
      "cell_type": "markdown",
      "source": [
        "## Q2: NumPy Arrays + Matplotlib Drawing\n"
      ],
      "metadata": {
        "id": "xW4XbrkYt3FI"
      }
    },
    {
      "cell_type": "code",
      "source": [
        "import numpy as np\n",
        "import matplotlib.pyplot as plt\n",
        "\n",
        "array_2d = np.array([[1, 2, 3], [4, 5, 6], [7, 8, 0]])\n",
        "print(\"2D array (1 to 8):\\n\", array_2d)\n",
        "\n",
        "array_five = np.full((3, 3), 5)\n",
        "print(\"3x3 array filled with 5:\\n\", array_five)\n",
        "\n",
        "array_random = np.random.rand(4, 4)\n",
        "print(\"4x4 array with random values:\\n\", array_random)\n",
        "\n",
        "fig, ax = plt.subplots()\n",
        "ax.plot([0, 1], [0, 1], color='red', label='Line')\n",
        "rectangle = plt.Rectangle((0.2, 0.2), 0.3, 0.4, fill=False, edgecolor='green', linewidth=2)\n",
        "ax.add_patch(rectangle)\n",
        "circle = plt.Circle((0.7, 0.7), 0.1, color='blue', fill=False)\n",
        "ax.add_patch(circle)\n",
        "ax.set_aspect('equal')\n",
        "plt.title(\"Line, Rectangle, and Circle\")\n",
        "plt.legend()\n",
        "plt.grid(True)\n",
        "plt.show()\n"
      ],
      "metadata": {
        "colab": {
          "base_uri": "https://localhost:8080/",
          "height": 678
        },
        "id": "z_FuNDXFt3ib",
        "outputId": "8bdeebd5-9d7b-468d-8859-07f4abc25c39"
      },
      "execution_count": null,
      "outputs": [
        {
          "output_type": "stream",
          "name": "stdout",
          "text": [
            "2D array (1 to 8):\n",
            " [[1 2 3]\n",
            " [4 5 6]\n",
            " [7 8 0]]\n",
            "3x3 array filled with 5:\n",
            " [[5 5 5]\n",
            " [5 5 5]\n",
            " [5 5 5]]\n",
            "4x4 array with random values:\n",
            " [[0.74023189 0.83017936 0.03456164 0.09652437]\n",
            " [0.25103382 0.24762487 0.83502517 0.62255696]\n",
            " [0.29457096 0.30309161 0.58274939 0.54920932]\n",
            " [0.76093064 0.01955534 0.63688032 0.71622551]]\n"
          ]
        },
        {
          "output_type": "display_data",
          "data": {
            "text/plain": [
              "<Figure size 640x480 with 1 Axes>"
            ],
            "image/png": "[encoded data removed]"
          },
          "metadata": {}
        }
      ]
    }
  ]
}