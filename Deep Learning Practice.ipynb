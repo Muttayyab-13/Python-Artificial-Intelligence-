{
  "cells": [
    {
      "cell_type": "code",
      "execution_count": 2,
      "metadata": {
        "id": "iM14HR4JIQkf"
      },
      "outputs": [],
      "source": [
        "# Import libraries\n",
        "import pandas as pd\n",
        "import numpy as np\n",
        "from numpy import genfromtxt\n"
      ]
    },
    {
      "cell_type": "code",
      "execution_count": null,
      "metadata": {
        "colab": {
          "base_uri": "https://localhost:8080/"
        },
        "id": "W7K98aVOItvW",
        "outputId": "e21afe59-2459-40af-8184-b513b6921ade"
      },
      "outputs": [
        {
          "name": "stdout",
          "output_type": "stream",
          "text": [
            "Mounted at /content/drive\n"
          ]
        }
      ],
      "source": [
        "from google.colab import drive\n",
        "drive.mount('/content/drive')"
      ]
    },
    {
      "cell_type": "code",
      "execution_count": null,
      "metadata": {
        "colab": {
          "base_uri": "https://localhost:8080/"
        },
        "id": "eul_oo_CI2Df",
        "outputId": "5043a192-ab24-4621-d612-6e4bc2297c83"
      },
      "outputs": [
        {
          "data": {
            "text/plain": [
              "array([[  3.6216 ,   8.6661 ,  -2.8073 ,  -0.44699,   0.     ],\n",
              "       [  4.5459 ,   8.1674 ,  -2.4586 ,  -1.4621 ,   0.     ],\n",
              "       [  3.866  ,  -2.6383 ,   1.9242 ,   0.10645,   0.     ],\n",
              "       ...,\n",
              "       [ -3.7503 , -13.4586 ,  17.5932 ,  -2.7771 ,   1.     ],\n",
              "       [ -3.5637 ,  -8.3827 ,  12.393  ,  -1.2823 ,   1.     ],\n",
              "       [ -2.5419 ,  -0.65804,   2.6842 ,   1.1952 ,   1.     ]])"
            ]
          },
          "execution_count": 7,
          "metadata": {},
          "output_type": "execute_result"
        }
      ],
      "source": [
        "data=genfromtxt('/content/drive/MyDrive/bank_note_data.txt',delimiter=',')\n",
        "data"
      ]
    },
    {
      "cell_type": "code",
      "execution_count": null,
      "metadata": {
        "colab": {
          "base_uri": "https://localhost:8080/"
        },
        "id": "4LhGM4_QLIla",
        "outputId": "1ab710a4-6033-4fd4-9045-ab2a6d02f7e4"
      },
      "outputs": [
        {
          "data": {
            "text/plain": [
              "array([0., 0., 0., ..., 1., 1., 1.])"
            ]
          },
          "execution_count": 9,
          "metadata": {},
          "output_type": "execute_result"
        }
      ],
      "source": [
        "labels=data[:,4]\n",
        "labels"
      ]
    },
    {
      "cell_type": "code",
      "execution_count": null,
      "metadata": {
        "colab": {
          "base_uri": "https://localhost:8080/"
        },
        "id": "erdAiCf5LJtJ",
        "outputId": "a2425109-5ab8-4391-8343-b5a01dc82a5c"
      },
      "outputs": [
        {
          "data": {
            "text/plain": [
              "array([[  3.6216 ,   8.6661 ,  -2.8073 ,  -0.44699],\n",
              "       [  4.5459 ,   8.1674 ,  -2.4586 ,  -1.4621 ],\n",
              "       [  3.866  ,  -2.6383 ,   1.9242 ,   0.10645],\n",
              "       ...,\n",
              "       [ -3.7503 , -13.4586 ,  17.5932 ,  -2.7771 ],\n",
              "       [ -3.5637 ,  -8.3827 ,  12.393  ,  -1.2823 ],\n",
              "       [ -2.5419 ,  -0.65804,   2.6842 ,   1.1952 ]])"
            ]
          },
          "execution_count": 10,
          "metadata": {},
          "output_type": "execute_result"
        }
      ],
      "source": [
        "features=data[:,0:4]\n",
        "features"
      ]
    },
    {
      "cell_type": "markdown",
      "metadata": {
        "id": "BXUAZEzlLonl"
      },
      "source": [
        "x=features\n",
        "y=labels"
      ]
    },
    {
      "cell_type": "code",
      "execution_count": null,
      "metadata": {
        "id": "ioaOfVB7L07p"
      },
      "outputs": [],
      "source": [
        "from sklearn.model_selection import train_test_split\n",
        "x_train,x_test,y_train,y_test=train_test_split(features,labels,test_size=0.2,random_state=0)"
      ]
    },
    {
      "cell_type": "code",
      "execution_count": null,
      "metadata": {
        "colab": {
          "base_uri": "https://localhost:8080/"
        },
        "id": "79_CECOcMGMl",
        "outputId": "cc8eb52e-d905-4319-f5ea-15bf83a9a7e9"
      },
      "outputs": [
        {
          "data": {
            "text/plain": [
              "array([[-1.2943  ,  2.6735  , -0.84085 , -2.0323  ],\n",
              "       [-0.40857 ,  3.0977  , -2.9607  , -2.6892  ],\n",
              "       [-1.5228  , -6.4789  ,  5.7568  ,  0.87325 ],\n",
              "       ...,\n",
              "       [ 0.6005  ,  0.99945 , -2.2126  ,  0.097399],\n",
              "       [ 2.0165  , -0.25246 ,  5.1707  ,  1.0763  ],\n",
              "       [-2.0759  , 10.8223  ,  2.6439  , -4.837   ]])"
            ]
          },
          "execution_count": 12,
          "metadata": {},
          "output_type": "execute_result"
        }
      ],
      "source": [
        "x_train"
      ]
    },
    {
      "cell_type": "code",
      "execution_count": null,
      "metadata": {
        "colab": {
          "base_uri": "https://localhost:8080/"
        },
        "id": "T7SFb8l0MLPs",
        "outputId": "cf67d208-4691-4a95-d36e-e7f3830ff06c"
      },
      "outputs": [
        {
          "data": {
            "text/plain": [
              "array([[ -1.7713  , -10.7665  ,  10.2184  ,  -1.0043  ],\n",
              "       [  5.1321  ,  -0.031048,   0.32616 ,   1.1151  ],\n",
              "       [ -2.0149  ,   3.6874  ,  -1.9385  ,  -3.8918  ],\n",
              "       ...,\n",
              "       [ -2.1652  ,   3.0211  ,  -2.4132  ,  -2.4241  ],\n",
              "       [  0.48797 ,   3.5674  ,  -4.3882  ,  -3.8116  ],\n",
              "       [ -4.3667  ,   6.0692  ,   0.57208 ,  -5.4668  ]])"
            ]
          },
          "execution_count": 13,
          "metadata": {},
          "output_type": "execute_result"
        }
      ],
      "source": [
        "x_test"
      ]
    },
    {
      "cell_type": "code",
      "execution_count": null,
      "metadata": {
        "colab": {
          "base_uri": "https://localhost:8080/"
        },
        "id": "0bOXbVEZM87h",
        "outputId": "e954640a-ec04-462c-fa94-171e601acceb"
      },
      "outputs": [
        {
          "data": {
            "text/plain": [
              "array([1., 1., 1., ..., 1., 0., 0.])"
            ]
          },
          "execution_count": 14,
          "metadata": {},
          "output_type": "execute_result"
        }
      ],
      "source": [
        "y_train"
      ]
    },
    {
      "cell_type": "markdown",
      "metadata": {
        "id": "Q23iddiKNF9U"
      },
      "source": [
        "#Standardize the datset"
      ]
    },
    {
      "cell_type": "code",
      "execution_count": null,
      "metadata": {
        "colab": {
          "base_uri": "https://localhost:8080/"
        },
        "id": "atCmi-8pNHRQ",
        "outputId": "8c001a73-c8e7-4332-8e5d-e31aadee1b6d"
      },
      "outputs": [
        {
          "data": {
            "text/plain": [
              "array([[0.38009937, 0.11250267, 0.66790876, 0.66254348],\n",
              "       [0.87793234, 0.51420791, 0.24176708, 0.86962129],\n",
              "       [0.36253236, 0.6533469 , 0.14420919, 0.38041779],\n",
              "       ...,\n",
              "       [0.3516936 , 0.62841491, 0.12375988, 0.52382069],\n",
              "       [0.54302476, 0.64885668, 0.03868008, 0.3882538 ],\n",
              "       [0.19293425, 0.74247045, 0.25236091, 0.22653105]])"
            ]
          },
          "execution_count": 15,
          "metadata": {},
          "output_type": "execute_result"
        }
      ],
      "source": [
        "\n",
        "#scaling\n",
        "\n",
        "from sklearn.preprocessing import MinMaxScaler\n",
        "\n",
        "scaler_object=MinMaxScaler()\n",
        "\n",
        "scaler_object.fit(x_train)\n",
        "\n",
        "scaled_x_train=scaler_object.transform(x_train)\n",
        "\n",
        "scaled_x_test=scaler_object.transform(x_test)\n",
        "\n",
        "scaled_x_test\n"
      ]
    },
    {
      "cell_type": "code",
      "execution_count": null,
      "metadata": {
        "colab": {
          "base_uri": "https://localhost:8080/"
        },
        "id": "Kr5qJQEqOGOf",
        "outputId": "3db51a45-2d1f-40dd-d023-915530344f71"
      },
      "outputs": [
        {
          "data": {
            "text/plain": [
              "1.0"
            ]
          },
          "execution_count": 19,
          "metadata": {},
          "output_type": "execute_result"
        }
      ],
      "source": [
        "scaled_x_train.max()"
      ]
    },
    {
      "cell_type": "code",
      "execution_count": null,
      "metadata": {
        "colab": {
          "base_uri": "https://localhost:8080/"
        },
        "id": "gwYsP0rcOsx5",
        "outputId": "92c83db2-dd00-4b1e-cbdc-03d712076461"
      },
      "outputs": [
        {
          "data": {
            "text/plain": [
              "0.0"
            ]
          },
          "execution_count": 20,
          "metadata": {},
          "output_type": "execute_result"
        }
      ],
      "source": [
        "scaled_x_train.min()"
      ]
    },
    {
      "cell_type": "code",
      "execution_count": null,
      "metadata": {
        "colab": {
          "base_uri": "https://localhost:8080/"
        },
        "id": "OerTzs27OvjH",
        "outputId": "299ced6a-b756-4ed1-bc18-0c4e43faf728"
      },
      "outputs": [
        {
          "data": {
            "text/plain": [
              "0.987767870172537"
            ]
          },
          "execution_count": 21,
          "metadata": {},
          "output_type": "execute_result"
        }
      ],
      "source": [
        "scaled_x_test.max()"
      ]
    },
    {
      "cell_type": "code",
      "execution_count": null,
      "metadata": {
        "colab": {
          "base_uri": "https://localhost:8080/"
        },
        "id": "Gy8xzv0DOwOw",
        "outputId": "6237eecb-c114-4df3-9f91-9b0b8124f58c"
      },
      "outputs": [
        {
          "data": {
            "text/plain": [
              "0.987767870172537"
            ]
          },
          "execution_count": 22,
          "metadata": {},
          "output_type": "execute_result"
        }
      ],
      "source": [
        "scaled_x_test.max()"
      ]
    },
    {
      "cell_type": "markdown",
      "metadata": {
        "id": "7zoO-A03Oz8j"
      },
      "source": [
        "#Building neural network"
      ]
    },
    {
      "cell_type": "code",
      "execution_count": null,
      "metadata": {
        "colab": {
          "base_uri": "https://localhost:8080/"
        },
        "collapsed": true,
        "id": "P6TM3puKO4NP",
        "outputId": "b2654ea6-1254-4ecc-9f27-24c1fdc19cb3"
      },
      "outputs": [
        {
          "name": "stdout",
          "output_type": "stream",
          "text": [
            "Requirement already satisfied: keras in /usr/local/lib/python3.10/dist-packages (3.5.0)\n",
            "Requirement already satisfied: absl-py in /usr/local/lib/python3.10/dist-packages (from keras) (1.4.0)\n",
            "Requirement already satisfied: numpy in /usr/local/lib/python3.10/dist-packages (from keras) (1.26.4)\n",
            "Requirement already satisfied: rich in /usr/local/lib/python3.10/dist-packages (from keras) (13.9.4)\n",
            "Requirement already satisfied: namex in /usr/local/lib/python3.10/dist-packages (from keras) (0.0.8)\n",
            "Requirement already satisfied: h5py in /usr/local/lib/python3.10/dist-packages (from keras) (3.12.1)\n",
            "Requirement already satisfied: optree in /usr/local/lib/python3.10/dist-packages (from keras) (0.13.1)\n",
            "Requirement already satisfied: ml-dtypes in /usr/local/lib/python3.10/dist-packages (from keras) (0.4.1)\n",
            "Requirement already satisfied: packaging in /usr/local/lib/python3.10/dist-packages (from keras) (24.2)\n",
            "Requirement already satisfied: typing-extensions>=4.5.0 in /usr/local/lib/python3.10/dist-packages (from optree->keras) (4.12.2)\n",
            "Requirement already satisfied: markdown-it-py>=2.2.0 in /usr/local/lib/python3.10/dist-packages (from rich->keras) (3.0.0)\n",
            "Requirement already satisfied: pygments<3.0.0,>=2.13.0 in /usr/local/lib/python3.10/dist-packages (from rich->keras) (2.18.0)\n",
            "Requirement already satisfied: mdurl~=0.1 in /usr/local/lib/python3.10/dist-packages (from markdown-it-py>=2.2.0->rich->keras) (0.1.2)\n"
          ]
        }
      ],
      "source": [
        "pip install keras #keras==tensorflow"
      ]
    },
    {
      "cell_type": "code",
      "execution_count": null,
      "metadata": {
        "id": "cDlS_mqKPE3i"
      },
      "outputs": [],
      "source": [
        "from keras.models import Sequential\n",
        "from keras.layers import Dense"
      ]
    },
    {
      "cell_type": "code",
      "execution_count": null,
      "metadata": {
        "colab": {
          "base_uri": "https://localhost:8080/"
        },
        "id": "FFmCLD4RPSVV",
        "outputId": "9dae431b-e0b2-4d24-d37d-fca68058e3c3"
      },
      "outputs": [
        {
          "name": "stderr",
          "output_type": "stream",
          "text": [
            "/usr/local/lib/python3.10/dist-packages/keras/src/layers/core/dense.py:87: UserWarning: Do not pass an `input_shape`/`input_dim` argument to a layer. When using Sequential models, prefer using an `Input(shape)` object as the first layer in the model instead.\n",
            "  super().__init__(activity_regularizer=activity_regularizer, **kwargs)\n"
          ]
        }
      ],
      "source": [
        "#creating model in a sequence\n",
        "model=Sequential()\n",
        "\n",
        "#neurons 5--hidden layer 1\n",
        "model.add(Dense(4,input_dim=4,activation='relu'))\n",
        "\n",
        "#neurons 2--hidden layer 1\n",
        "model.add(Dense(2,activation='relu'))\n",
        "\n",
        "#neurons 1--Output layer 1\n",
        "model.add(Dense(1,activation='sigmoid'))"
      ]
    },
    {
      "cell_type": "markdown",
      "metadata": {
        "id": "7vvj0XtWURJP"
      },
      "source": [
        "#Compile  MODEL"
      ]
    },
    {
      "cell_type": "code",
      "execution_count": null,
      "metadata": {
        "id": "jVkARQ_GRSR2"
      },
      "outputs": [],
      "source": [
        "model.compile(loss='binary_crossentropy',optimizer='adam',metrics=['accuracy'])"
      ]
    },
    {
      "cell_type": "markdown",
      "metadata": {
        "id": "Cr1HFN2OUq4Y"
      },
      "source": [
        "#Training the model\n"
      ]
    },
    {
      "cell_type": "code",
      "execution_count": 1,
      "metadata": {
        "colab": {
          "base_uri": "https://localhost:8080/"
        },
        "id": "SKCT96RiUu20",
        "outputId": "eacf3b8e-7fa2-4960-d2eb-8fe2bba77efc"
      },
      "outputs": [
        {
          "ename": "NameError",
          "evalue": "name 'model' is not defined",
          "output_type": "error",
          "traceback": [
            "\u001b[1;31m---------------------------------------------------------------------------\u001b[0m",
            "\u001b[1;31mNameError\u001b[0m                                 Traceback (most recent call last)",
            "Cell \u001b[1;32mIn[1], line 1\u001b[0m\n\u001b[1;32m----> 1\u001b[0m \u001b[43mmodel\u001b[49m\u001b[38;5;241m.\u001b[39mfit(scaled_x_train,y_train,epochs\u001b[38;5;241m=\u001b[39m\u001b[38;5;241m250\u001b[39m,verbose\u001b[38;5;241m=\u001b[39m\u001b[38;5;241m1\u001b[39m)\n\u001b[0;32m      3\u001b[0m \u001b[38;5;66;03m#divides the data into 35 chunks,pure data set ko chunks mai\u001b[39;00m\n\u001b[0;32m      4\u001b[0m \u001b[38;5;66;03m#kar ke w aur b ki values ko sahi karta\u001b[39;00m\n\u001b[0;32m      5\u001b[0m \u001b[38;5;66;03m#thora thora data de kar loss check karrta take bar bar pura data na dena parhe\u001b[39;00m\n\u001b[1;32m   (...)\u001b[0m\n\u001b[0;32m      8\u001b[0m \u001b[38;5;66;03m# 1 epochs == jab model pure data aik bar dekhta learn karta\u001b[39;00m\n\u001b[0;32m      9\u001b[0m \u001b[38;5;66;03m# 35 chunks ko check karta aik epochs\u001b[39;00m\n",
            "\u001b[1;31mNameError\u001b[0m: name 'model' is not defined"
          ]
        }
      ],
      "source": [
        "model.fit(scaled_x_train,y_train,epochs=250,verbose=1)\n",
        "\n",
        "#divides the data into 35 chunks,pure data set ko chunks mai\n",
        "#kar ke w aur b ki values ko sahi karta\n",
        "#thora thora data de kar loss check karrta take bar bar pura data na dena parhe\n",
        "#step by step epoch on chunks\n",
        "\n",
        "# 1 epochs == jab model pure data aik bar dekhta learn karta\n",
        "# 35 chunks ko check karta aik epochs"
      ]
    },
    {
      "cell_type": "code",
      "execution_count": null,
      "metadata": {
        "id": "gUtU1XaWVkSg"
      },
      "outputs": [],
      "source": []
    },
    {
      "cell_type": "markdown",
      "metadata": {
        "id": "xRbewvO6ZHor"
      },
      "source": [
        "#Prediction on unseen **Values**"
      ]
    },
    {
      "cell_type": "code",
      "execution_count": null,
      "metadata": {
        "colab": {
          "base_uri": "https://localhost:8080/"
        },
        "id": "Ws7xX7fPZNiD",
        "outputId": "f6f6876b-250f-4d34-cb34-c91989d507cf"
      },
      "outputs": [
        {
          "name": "stdout",
          "output_type": "stream",
          "text": [
            "\u001b[1m9/9\u001b[0m \u001b[32m━━━━━━━━━━━━━━━━━━━━\u001b[0m\u001b[37m\u001b[0m \u001b[1m0s\u001b[0m 2ms/step \n"
          ]
        },
        {
          "data": {
            "text/plain": [
              "array([[9.97497380e-01],\n",
              "       [1.88771992e-05],\n",
              "       [9.99537408e-01],\n",
              "       [5.07917593e-06],\n",
              "       [4.46734748e-06],\n",
              "       [3.60531594e-05],\n",
              "       [8.65734933e-07],\n",
              "       [2.59626049e-05],\n",
              "       [9.91440952e-01],\n",
              "       [9.96907711e-01],\n",
              "       [1.54032132e-05],\n",
              "       [6.07248467e-07],\n",
              "       [9.99611437e-01],\n",
              "       [3.95561216e-07],\n",
              "       [8.89928469e-06],\n",
              "       [4.71760222e-06],\n",
              "       [9.99986410e-01],\n",
              "       [9.98166084e-01],\n",
              "       [8.96273741e-06],\n",
              "       [8.74009311e-06],\n",
              "       [9.82113302e-01],\n",
              "       [2.14965758e-03],\n",
              "       [8.78428580e-07],\n",
              "       [9.97101545e-01],\n",
              "       [9.01819840e-02],\n",
              "       [9.95777428e-01],\n",
              "       [6.19015600e-06],\n",
              "       [9.99113142e-01],\n",
              "       [1.91457756e-03],\n",
              "       [3.57794561e-05],\n",
              "       [9.93565202e-01],\n",
              "       [8.13884065e-02],\n",
              "       [9.65930760e-01],\n",
              "       [9.99930561e-01],\n",
              "       [9.99920666e-01],\n",
              "       [1.73603603e-05],\n",
              "       [1.73206881e-05],\n",
              "       [9.99210477e-01],\n",
              "       [2.08645986e-04],\n",
              "       [9.99239326e-01],\n",
              "       [7.56393373e-01],\n",
              "       [9.99923170e-01],\n",
              "       [5.12321776e-06],\n",
              "       [7.67289239e-05],\n",
              "       [9.98690903e-01],\n",
              "       [9.63224888e-01],\n",
              "       [4.36306254e-06],\n",
              "       [1.92197585e-05],\n",
              "       [9.99918342e-01],\n",
              "       [4.46012455e-05],\n",
              "       [3.87194041e-06],\n",
              "       [9.99963582e-01],\n",
              "       [7.50753097e-05],\n",
              "       [9.99505639e-01],\n",
              "       [9.93614376e-01],\n",
              "       [4.73442742e-06],\n",
              "       [9.95554149e-01],\n",
              "       [9.98911381e-01],\n",
              "       [1.80651614e-06],\n",
              "       [9.99963880e-01],\n",
              "       [9.92667019e-01],\n",
              "       [2.06471600e-06],\n",
              "       [7.30979009e-05],\n",
              "       [1.66747088e-06],\n",
              "       [7.48064776e-05],\n",
              "       [9.99133408e-01],\n",
              "       [9.93819058e-01],\n",
              "       [9.98905897e-01],\n",
              "       [9.56276000e-01],\n",
              "       [8.39894801e-06],\n",
              "       [9.05131936e-01],\n",
              "       [2.14219540e-06],\n",
              "       [9.99992728e-01],\n",
              "       [2.82128167e-05],\n",
              "       [1.18845522e-01],\n",
              "       [9.99977827e-01],\n",
              "       [3.18775051e-06],\n",
              "       [2.12177383e-06],\n",
              "       [4.07702355e-05],\n",
              "       [2.12461464e-06],\n",
              "       [9.97376144e-01],\n",
              "       [9.99681652e-01],\n",
              "       [5.91534217e-06],\n",
              "       [3.68819633e-06],\n",
              "       [9.93154526e-01],\n",
              "       [9.99342620e-01],\n",
              "       [4.29130569e-06],\n",
              "       [1.75087844e-05],\n",
              "       [2.88250362e-06],\n",
              "       [2.13306848e-05],\n",
              "       [2.41959751e-05],\n",
              "       [9.97648299e-01],\n",
              "       [9.98977482e-01],\n",
              "       [9.97527838e-01],\n",
              "       [9.99661982e-01],\n",
              "       [3.67531393e-05],\n",
              "       [3.24682469e-06],\n",
              "       [3.79088415e-05],\n",
              "       [9.99141335e-01],\n",
              "       [9.99991834e-01],\n",
              "       [7.44442423e-06],\n",
              "       [9.84580100e-01],\n",
              "       [1.90892501e-06],\n",
              "       [6.58610046e-01],\n",
              "       [4.01066136e-05],\n",
              "       [9.92032230e-01],\n",
              "       [2.43866216e-05],\n",
              "       [9.95207667e-01],\n",
              "       [9.99927580e-01],\n",
              "       [9.99636352e-01],\n",
              "       [6.94038090e-06],\n",
              "       [9.99982357e-01],\n",
              "       [3.54775548e-04],\n",
              "       [2.30159421e-05],\n",
              "       [9.99659836e-01],\n",
              "       [1.29127393e-05],\n",
              "       [8.18228273e-06],\n",
              "       [6.67494896e-05],\n",
              "       [9.99775767e-01],\n",
              "       [9.99933183e-01],\n",
              "       [1.84637265e-05],\n",
              "       [1.03273931e-06],\n",
              "       [9.20000911e-01],\n",
              "       [9.99978185e-01],\n",
              "       [9.02154088e-01],\n",
              "       [9.99911606e-01],\n",
              "       [9.83635068e-01],\n",
              "       [5.83254268e-06],\n",
              "       [9.50245619e-01],\n",
              "       [1.04158593e-04],\n",
              "       [1.71134932e-04],\n",
              "       [1.96183701e-05],\n",
              "       [1.27930787e-06],\n",
              "       [1.18845522e-01],\n",
              "       [1.43901168e-04],\n",
              "       [9.99417603e-01],\n",
              "       [4.94591768e-05],\n",
              "       [1.00826981e-06],\n",
              "       [2.77065237e-06],\n",
              "       [5.18563902e-05],\n",
              "       [9.93584275e-01],\n",
              "       [1.66307336e-06],\n",
              "       [9.99704003e-01],\n",
              "       [9.98939455e-01],\n",
              "       [1.87734695e-05],\n",
              "       [5.02776402e-06],\n",
              "       [6.96235299e-01],\n",
              "       [3.07023329e-05],\n",
              "       [7.46781495e-07],\n",
              "       [9.98155832e-01],\n",
              "       [1.47957646e-04],\n",
              "       [1.83956563e-05],\n",
              "       [2.74176773e-06],\n",
              "       [7.90249396e-06],\n",
              "       [9.99907315e-01],\n",
              "       [1.99174945e-04],\n",
              "       [9.68078554e-01],\n",
              "       [5.30857233e-06],\n",
              "       [9.99441087e-01],\n",
              "       [3.28757560e-05],\n",
              "       [5.00653414e-06],\n",
              "       [9.99581456e-01],\n",
              "       [2.13265730e-06],\n",
              "       [9.98935580e-01],\n",
              "       [2.16036206e-05],\n",
              "       [9.77359951e-01],\n",
              "       [9.99780178e-01],\n",
              "       [7.38506969e-06],\n",
              "       [9.48168874e-01],\n",
              "       [9.90823090e-01],\n",
              "       [3.37545816e-06],\n",
              "       [9.99411464e-01],\n",
              "       [9.97220218e-01],\n",
              "       [9.49810505e-01],\n",
              "       [9.99701321e-01],\n",
              "       [6.91667356e-06],\n",
              "       [9.56172225e-05],\n",
              "       [2.73602404e-06],\n",
              "       [9.99985516e-01],\n",
              "       [9.87141252e-01],\n",
              "       [1.38150217e-05],\n",
              "       [9.99819934e-01],\n",
              "       [3.87452528e-05],\n",
              "       [4.77089543e-06],\n",
              "       [1.51067006e-05],\n",
              "       [9.99974132e-01],\n",
              "       [8.03382791e-05],\n",
              "       [9.99476135e-01],\n",
              "       [9.98032928e-01],\n",
              "       [6.38175616e-03],\n",
              "       [1.18842311e-01],\n",
              "       [9.38450012e-06],\n",
              "       [9.98317897e-01],\n",
              "       [1.23889913e-05],\n",
              "       [9.99726951e-01],\n",
              "       [2.54421138e-06],\n",
              "       [3.50980372e-06],\n",
              "       [2.90672983e-06],\n",
              "       [9.36628580e-01],\n",
              "       [9.50368762e-01],\n",
              "       [2.29640500e-05],\n",
              "       [1.00601996e-04],\n",
              "       [1.02854631e-06],\n",
              "       [1.43252862e-06],\n",
              "       [5.13475170e-05],\n",
              "       [1.19756638e-04],\n",
              "       [1.17818172e-06],\n",
              "       [3.40011138e-05],\n",
              "       [9.67021406e-01],\n",
              "       [5.78823074e-06],\n",
              "       [1.82819576e-06],\n",
              "       [9.95062411e-01],\n",
              "       [6.97399992e-06],\n",
              "       [8.59566990e-06],\n",
              "       [1.13947658e-06],\n",
              "       [9.96043921e-01],\n",
              "       [9.49263275e-01],\n",
              "       [4.64815239e-05],\n",
              "       [1.20217726e-03],\n",
              "       [1.39296681e-05],\n",
              "       [2.31021593e-04],\n",
              "       [9.05588149e-06],\n",
              "       [4.28111071e-06],\n",
              "       [6.27298596e-06],\n",
              "       [1.34147776e-05],\n",
              "       [9.99673963e-01],\n",
              "       [9.41433132e-01],\n",
              "       [1.21312260e-04],\n",
              "       [7.33175912e-05],\n",
              "       [7.21504875e-06],\n",
              "       [1.39246995e-05],\n",
              "       [9.96690273e-01],\n",
              "       [9.99185860e-01],\n",
              "       [1.12963335e-05],\n",
              "       [9.99588490e-01],\n",
              "       [9.94659960e-01],\n",
              "       [1.42046592e-05],\n",
              "       [4.35007840e-01],\n",
              "       [7.80131280e-01],\n",
              "       [9.99907911e-01],\n",
              "       [2.41850412e-05],\n",
              "       [9.99940813e-01],\n",
              "       [9.98295248e-01],\n",
              "       [3.73709918e-06],\n",
              "       [9.98602271e-01],\n",
              "       [2.04246408e-05],\n",
              "       [1.96705264e-06],\n",
              "       [2.21205073e-06],\n",
              "       [4.32598154e-06],\n",
              "       [1.37857642e-05],\n",
              "       [9.46257561e-02],\n",
              "       [9.80218649e-01],\n",
              "       [1.80686696e-03],\n",
              "       [9.99977112e-01],\n",
              "       [9.99270022e-01],\n",
              "       [5.52529491e-05],\n",
              "       [2.85609203e-05],\n",
              "       [9.80246842e-01],\n",
              "       [9.91452873e-01],\n",
              "       [8.13973308e-01],\n",
              "       [6.60963133e-06],\n",
              "       [2.22782114e-06],\n",
              "       [6.86389743e-04],\n",
              "       [9.99956787e-01],\n",
              "       [4.60515730e-05],\n",
              "       [6.09181643e-06],\n",
              "       [9.95680273e-01],\n",
              "       [9.86399949e-01],\n",
              "       [8.50696779e-06],\n",
              "       [9.99625206e-01],\n",
              "       [9.98633444e-01],\n",
              "       [2.80736331e-05],\n",
              "       [9.99960959e-01],\n",
              "       [9.94725883e-01],\n",
              "       [9.96967673e-01]], dtype=float32)"
            ]
          },
          "execution_count": 42,
          "metadata": {},
          "output_type": "execute_result"
        }
      ],
      "source": [
        "predictions=model.predict(scaled_x_test)\n",
        "predictions\n",
        "#this is giving  probablities of being 1."
      ]
    },
    {
      "cell_type": "markdown",
      "metadata": {
        "id": "nykzo9NlbEra"
      },
      "source": [
        "#Proper results"
      ]
    },
    {
      "cell_type": "code",
      "execution_count": null,
      "metadata": {
        "colab": {
          "base_uri": "https://localhost:8080/"
        },
        "id": "cnm3f6e0bGrZ",
        "outputId": "d7261b2a-b8ce-41a9-97da-2889063c363c"
      },
      "outputs": [
        {
          "data": {
            "text/plain": [
              "array([[1],\n",
              "       [0],\n",
              "       [1],\n",
              "       [0],\n",
              "       [0],\n",
              "       [0],\n",
              "       [0],\n",
              "       [0],\n",
              "       [1],\n",
              "       [1],\n",
              "       [0],\n",
              "       [0],\n",
              "       [1],\n",
              "       [0],\n",
              "       [0],\n",
              "       [0],\n",
              "       [1],\n",
              "       [1],\n",
              "       [0],\n",
              "       [0],\n",
              "       [1],\n",
              "       [0],\n",
              "       [0],\n",
              "       [1],\n",
              "       [0],\n",
              "       [1],\n",
              "       [0],\n",
              "       [1],\n",
              "       [0],\n",
              "       [0],\n",
              "       [1],\n",
              "       [0],\n",
              "       [1],\n",
              "       [1],\n",
              "       [1],\n",
              "       [0],\n",
              "       [0],\n",
              "       [1],\n",
              "       [0],\n",
              "       [1],\n",
              "       [1],\n",
              "       [1],\n",
              "       [0],\n",
              "       [0],\n",
              "       [1],\n",
              "       [1],\n",
              "       [0],\n",
              "       [0],\n",
              "       [1],\n",
              "       [0],\n",
              "       [0],\n",
              "       [1],\n",
              "       [0],\n",
              "       [1],\n",
              "       [1],\n",
              "       [0],\n",
              "       [1],\n",
              "       [1],\n",
              "       [0],\n",
              "       [1],\n",
              "       [1],\n",
              "       [0],\n",
              "       [0],\n",
              "       [0],\n",
              "       [0],\n",
              "       [1],\n",
              "       [1],\n",
              "       [1],\n",
              "       [1],\n",
              "       [0],\n",
              "       [1],\n",
              "       [0],\n",
              "       [1],\n",
              "       [0],\n",
              "       [0],\n",
              "       [1],\n",
              "       [0],\n",
              "       [0],\n",
              "       [0],\n",
              "       [0],\n",
              "       [1],\n",
              "       [1],\n",
              "       [0],\n",
              "       [0],\n",
              "       [1],\n",
              "       [1],\n",
              "       [0],\n",
              "       [0],\n",
              "       [0],\n",
              "       [0],\n",
              "       [0],\n",
              "       [1],\n",
              "       [1],\n",
              "       [1],\n",
              "       [1],\n",
              "       [0],\n",
              "       [0],\n",
              "       [0],\n",
              "       [1],\n",
              "       [1],\n",
              "       [0],\n",
              "       [1],\n",
              "       [0],\n",
              "       [1],\n",
              "       [0],\n",
              "       [1],\n",
              "       [0],\n",
              "       [1],\n",
              "       [1],\n",
              "       [1],\n",
              "       [0],\n",
              "       [1],\n",
              "       [0],\n",
              "       [0],\n",
              "       [1],\n",
              "       [0],\n",
              "       [0],\n",
              "       [0],\n",
              "       [1],\n",
              "       [1],\n",
              "       [0],\n",
              "       [0],\n",
              "       [1],\n",
              "       [1],\n",
              "       [1],\n",
              "       [1],\n",
              "       [1],\n",
              "       [0],\n",
              "       [1],\n",
              "       [0],\n",
              "       [0],\n",
              "       [0],\n",
              "       [0],\n",
              "       [0],\n",
              "       [0],\n",
              "       [1],\n",
              "       [0],\n",
              "       [0],\n",
              "       [0],\n",
              "       [0],\n",
              "       [1],\n",
              "       [0],\n",
              "       [1],\n",
              "       [1],\n",
              "       [0],\n",
              "       [0],\n",
              "       [1],\n",
              "       [0],\n",
              "       [0],\n",
              "       [1],\n",
              "       [0],\n",
              "       [0],\n",
              "       [0],\n",
              "       [0],\n",
              "       [1],\n",
              "       [0],\n",
              "       [1],\n",
              "       [0],\n",
              "       [1],\n",
              "       [0],\n",
              "       [0],\n",
              "       [1],\n",
              "       [0],\n",
              "       [1],\n",
              "       [0],\n",
              "       [1],\n",
              "       [1],\n",
              "       [0],\n",
              "       [1],\n",
              "       [1],\n",
              "       [0],\n",
              "       [1],\n",
              "       [1],\n",
              "       [1],\n",
              "       [1],\n",
              "       [0],\n",
              "       [0],\n",
              "       [0],\n",
              "       [1],\n",
              "       [1],\n",
              "       [0],\n",
              "       [1],\n",
              "       [0],\n",
              "       [0],\n",
              "       [0],\n",
              "       [1],\n",
              "       [0],\n",
              "       [1],\n",
              "       [1],\n",
              "       [0],\n",
              "       [0],\n",
              "       [0],\n",
              "       [1],\n",
              "       [0],\n",
              "       [1],\n",
              "       [0],\n",
              "       [0],\n",
              "       [0],\n",
              "       [1],\n",
              "       [1],\n",
              "       [0],\n",
              "       [0],\n",
              "       [0],\n",
              "       [0],\n",
              "       [0],\n",
              "       [0],\n",
              "       [0],\n",
              "       [0],\n",
              "       [1],\n",
              "       [0],\n",
              "       [0],\n",
              "       [1],\n",
              "       [0],\n",
              "       [0],\n",
              "       [0],\n",
              "       [1],\n",
              "       [1],\n",
              "       [0],\n",
              "       [0],\n",
              "       [0],\n",
              "       [0],\n",
              "       [0],\n",
              "       [0],\n",
              "       [0],\n",
              "       [0],\n",
              "       [1],\n",
              "       [1],\n",
              "       [0],\n",
              "       [0],\n",
              "       [0],\n",
              "       [0],\n",
              "       [1],\n",
              "       [1],\n",
              "       [0],\n",
              "       [1],\n",
              "       [1],\n",
              "       [0],\n",
              "       [0],\n",
              "       [1],\n",
              "       [1],\n",
              "       [0],\n",
              "       [1],\n",
              "       [1],\n",
              "       [0],\n",
              "       [1],\n",
              "       [0],\n",
              "       [0],\n",
              "       [0],\n",
              "       [0],\n",
              "       [0],\n",
              "       [0],\n",
              "       [1],\n",
              "       [0],\n",
              "       [1],\n",
              "       [1],\n",
              "       [0],\n",
              "       [0],\n",
              "       [1],\n",
              "       [1],\n",
              "       [1],\n",
              "       [0],\n",
              "       [0],\n",
              "       [0],\n",
              "       [1],\n",
              "       [0],\n",
              "       [0],\n",
              "       [1],\n",
              "       [1],\n",
              "       [0],\n",
              "       [1],\n",
              "       [1],\n",
              "       [0],\n",
              "       [1],\n",
              "       [1],\n",
              "       [1]])"
            ]
          },
          "execution_count": 43,
          "metadata": {},
          "output_type": "execute_result"
        }
      ],
      "source": [
        "predicted_classes=np.where(predictions>0.5,1,0)\n",
        "predicted_classes"
      ]
    },
    {
      "cell_type": "code",
      "execution_count": null,
      "metadata": {
        "id": "XDEqtDisbR9-"
      },
      "outputs": [],
      "source": []
    },
    {
      "cell_type": "markdown",
      "metadata": {
        "id": "wNlDs7UubgYy"
      },
      "source": [
        "#Evaluating the model performance"
      ]
    },
    {
      "cell_type": "code",
      "execution_count": null,
      "metadata": {
        "colab": {
          "base_uri": "https://localhost:8080/"
        },
        "id": "y9pOkd3kbi38",
        "outputId": "b03a6297-3286-4564-affc-c034b789c5d9"
      },
      "outputs": [
        {
          "data": {
            "text/plain": [
              "['loss', 'compile_metrics']"
            ]
          },
          "execution_count": 44,
          "metadata": {},
          "output_type": "execute_result"
        }
      ],
      "source": [
        "model.metrics_names"
      ]
    },
    {
      "cell_type": "code",
      "execution_count": null,
      "metadata": {
        "colab": {
          "base_uri": "https://localhost:8080/"
        },
        "id": "bC8Ni8A-bpDy",
        "outputId": "c516b77f-4f79-4cef-ecc2-14dac9a4709a"
      },
      "outputs": [
        {
          "name": "stdout",
          "output_type": "stream",
          "text": [
            "\u001b[1m9/9\u001b[0m \u001b[32m━━━━━━━━━━━━━━━━━━━━\u001b[0m\u001b[37m\u001b[0m \u001b[1m0s\u001b[0m 2ms/step - accuracy: 0.9904 - loss: 0.0211 \n"
          ]
        },
        {
          "data": {
            "text/plain": [
              "[0.020778842270374298, 0.9927272796630859]"
            ]
          },
          "execution_count": 45,
          "metadata": {},
          "output_type": "execute_result"
        }
      ],
      "source": [
        "model.evaluate(x=scaled_x_test,y=y_test)"
      ]
    },
    {
      "cell_type": "code",
      "execution_count": null,
      "metadata": {
        "id": "PomVm8TZcBhE"
      },
      "outputs": [],
      "source": [
        "from sklearn.metrics import confusion_matrix,classification_report"
      ]
    },
    {
      "cell_type": "code",
      "execution_count": null,
      "metadata": {
        "colab": {
          "base_uri": "https://localhost:8080/"
        },
        "id": "2XO5ld_QcHD3",
        "outputId": "d0527e1e-637e-43f7-c379-040a8984f0d8"
      },
      "outputs": [
        {
          "name": "stdout",
          "output_type": "stream",
          "text": [
            "              precision    recall  f1-score   support\n",
            "\n",
            "         0.0       1.00      0.99      0.99       157\n",
            "         1.0       0.98      1.00      0.99       118\n",
            "\n",
            "    accuracy                           0.99       275\n",
            "   macro avg       0.99      0.99      0.99       275\n",
            "weighted avg       0.99      0.99      0.99       275\n",
            "\n",
            "[[155   2]\n",
            " [  0 118]]\n"
          ]
        }
      ],
      "source": [
        "print(classification_report(y_test,predicted_classes))\n",
        "\n",
        "print(confusion_matrix(y_test,predicted_classes))"
      ]
    },
    {
      "cell_type": "code",
      "execution_count": null,
      "metadata": {
        "colab": {
          "base_uri": "https://localhost:8080/"
        },
        "id": "iIdP9JjZcYJp",
        "outputId": "e71a6d09-cd72-4855-f7b9-b0998f5bdfdd"
      },
      "outputs": [
        {
          "name": "stderr",
          "output_type": "stream",
          "text": [
            "WARNING:absl:You are saving your model as an HDF5 file via `model.save()` or `keras.saving.save_model(model)`. This file format is considered legacy. We recommend using instead the native Keras format, e.g. `model.save('my_model.keras')` or `keras.saving.save_model(model, 'my_model.keras')`. \n"
          ]
        }
      ],
      "source": [
        "model.save('myfirstmodel.h5')\n",
        "\n",
        "#.h5 == format"
      ]
    },
    {
      "cell_type": "code",
      "execution_count": null,
      "metadata": {
        "id": "vOtSA7o8csKq"
      },
      "outputs": [],
      "source": [
        "from keras.models import load_model"
      ]
    },
    {
      "cell_type": "code",
      "execution_count": null,
      "metadata": {
        "colab": {
          "base_uri": "https://localhost:8080/"
        },
        "id": "rGrGzkHpdG_k",
        "outputId": "293be1a1-4712-4a97-898d-f2aae7d8cca8"
      },
      "outputs": [
        {
          "name": "stderr",
          "output_type": "stream",
          "text": [
            "WARNING:absl:Compiled the loaded model, but the compiled metrics have yet to be built. `model.compile_metrics` will be empty until you train or evaluate the model.\n"
          ]
        }
      ],
      "source": [
        "loaded_model = load_model('myfirstmodel.h5')"
      ]
    }
  ],
  "metadata": {
    "colab": {
      "provenance": []
    },
    "kernelspec": {
      "display_name": "Python 3",
      "name": "python3"
    },
    "language_info": {
      "codemirror_mode": {
        "name": "ipython",
        "version": 3
      },
      "file_extension": ".py",
      "mimetype": "text/x-python",
      "name": "python",
      "nbconvert_exporter": "python",
      "pygments_lexer": "ipython3",
      "version": "3.13.0"
    }
  },
  "nbformat": 4,
  "nbformat_minor": 0
}
